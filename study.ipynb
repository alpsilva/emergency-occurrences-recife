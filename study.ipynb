{
 "cells": [
  {
   "cell_type": "markdown",
   "metadata": {},
   "source": [
    "Necessary imports"
   ]
  },
  {
   "cell_type": "code",
   "execution_count": 1,
   "metadata": {},
   "outputs": [
    {
     "name": "stdout",
     "output_type": "stream",
     "text": [
      "Defaulting to user installation because normal site-packages is not writeable\n",
      "Collecting pandas\n",
      "  Downloading pandas-1.4.3-cp310-cp310-manylinux_2_17_x86_64.manylinux2014_x86_64.whl (11.6 MB)\n",
      "\u001b[2K     \u001b[38;2;114;156;31m━━━━━━━━━━━━━━━━━━━━━━━━━━━━━━━━━━━━━━━━\u001b[0m \u001b[32m11.6/11.6 MB\u001b[0m \u001b[31m6.4 MB/s\u001b[0m eta \u001b[36m0:00:00\u001b[0mm eta \u001b[36m0:00:01\u001b[0m0:01\u001b[0m:01\u001b[0m\n",
      "\u001b[?25hRequirement already satisfied: numpy>=1.21.0 in /home/alps2/.local/lib/python3.10/site-packages (from pandas) (1.23.2)\n",
      "Requirement already satisfied: python-dateutil>=2.8.1 in /home/alps2/.local/lib/python3.10/site-packages (from pandas) (2.8.2)\n",
      "Requirement already satisfied: pytz>=2020.1 in /usr/lib/python3/dist-packages (from pandas) (2022.1)\n",
      "Requirement already satisfied: six>=1.5 in /usr/lib/python3/dist-packages (from python-dateutil>=2.8.1->pandas) (1.16.0)\n",
      "Installing collected packages: pandas\n",
      "Successfully installed pandas-1.4.3\n",
      "Note: you may need to restart the kernel to use updated packages.\n",
      "Defaulting to user installation because normal site-packages is not writeable\n",
      "Collecting plotly\n",
      "  Downloading plotly-5.10.0-py2.py3-none-any.whl (15.2 MB)\n",
      "\u001b[2K     \u001b[38;2;114;156;31m━━━━━━━━━━━━━━━━━━━━━━━━━━━━━━━━━━━━━━━━\u001b[0m \u001b[32m15.2/15.2 MB\u001b[0m \u001b[31m2.6 MB/s\u001b[0m eta \u001b[36m0:00:00\u001b[0mm eta \u001b[36m0:00:01\u001b[0m0:01\u001b[0m:01\u001b[0m\n",
      "\u001b[?25hCollecting tenacity>=6.2.0\n",
      "  Downloading tenacity-8.0.1-py3-none-any.whl (24 kB)\n",
      "Installing collected packages: tenacity, plotly\n",
      "Successfully installed plotly-5.10.0 tenacity-8.0.1\n",
      "Note: you may need to restart the kernel to use updated packages.\n"
     ]
    }
   ],
   "source": [
    "%pip install pandas\n",
    "%pip install plotly\n",
    "%pip install scipy\n",
    "\n",
    "from scipy import stats\n",
    "import pandas as pd\n",
    "import plotly.express as px"
   ]
  },
  {
   "cell_type": "markdown",
   "metadata": {},
   "source": [
    "Carregamento de dados"
   ]
  },
  {
   "cell_type": "markdown",
   "metadata": {},
   "source": [
    "A partir do site que pegamos o arquivo (http://dados.recife.pe.gov.br/pt_BR/dataset/servico-de-atendimento-movel-de-urgencia-samu-2022/resource/7c005351-2d14-46cf-b2f0-6622a5553b30), os tipos dos dados são:\n",
    "\n",
    "data: timestamp\n",
    "hora_minuto: text municipio: text\n",
    "bairro: text\n",
    "endereco: text\n",
    "origem_chamado: text\n",
    "tipo: text\n",
    "subtipo: text\n",
    "sexo: text\n",
    "idade: numeric\n",
    "motivo_finalizacao: text\n",
    "motivo_desfecho: text"
   ]
  },
  {
   "cell_type": "code",
   "execution_count": 3,
   "metadata": {},
   "outputs": [
    {
     "data": {
      "text/html": [
       "<div>\n",
       "<style scoped>\n",
       "    .dataframe tbody tr th:only-of-type {\n",
       "        vertical-align: middle;\n",
       "    }\n",
       "\n",
       "    .dataframe tbody tr th {\n",
       "        vertical-align: top;\n",
       "    }\n",
       "\n",
       "    .dataframe thead th {\n",
       "        text-align: right;\n",
       "    }\n",
       "</style>\n",
       "<table border=\"1\" class=\"dataframe\">\n",
       "  <thead>\n",
       "    <tr style=\"text-align: right;\">\n",
       "      <th></th>\n",
       "      <th>data</th>\n",
       "      <th>hora_minuto</th>\n",
       "      <th>municipio</th>\n",
       "      <th>bairro</th>\n",
       "      <th>endereco</th>\n",
       "      <th>origem_chamado</th>\n",
       "      <th>tipo</th>\n",
       "      <th>subtipo</th>\n",
       "      <th>sexo</th>\n",
       "      <th>idade</th>\n",
       "      <th>motivo_finalizacao</th>\n",
       "      <th>motivo_desfecho</th>\n",
       "    </tr>\n",
       "  </thead>\n",
       "  <tbody>\n",
       "    <tr>\n",
       "      <th>0</th>\n",
       "      <td>2022-01-01</td>\n",
       "      <td>00:02:19</td>\n",
       "      <td>RECIFE</td>\n",
       "      <td>JARDIM SAO PAULO</td>\n",
       "      <td>R LEANDRO BARRETO</td>\n",
       "      <td>RESIDENCIAL</td>\n",
       "      <td>RESPIRATORIA</td>\n",
       "      <td>CASO SUSPEITO COVID-19</td>\n",
       "      <td>FEMININO</td>\n",
       "      <td>81.0</td>\n",
       "      <td>NaN</td>\n",
       "      <td>PACIENTE RECUSA SER REMOVIDO</td>\n",
       "    </tr>\n",
       "    <tr>\n",
       "      <th>1</th>\n",
       "      <td>2022-01-01</td>\n",
       "      <td>00:03:00</td>\n",
       "      <td>RECIFE</td>\n",
       "      <td>MADALENA</td>\n",
       "      <td>R ALTINHO</td>\n",
       "      <td>RESIDENCIAL</td>\n",
       "      <td>CAUSAS EXTERNAS</td>\n",
       "      <td>QUEDA DA PROPRIA ALTURA</td>\n",
       "      <td>FEMININO</td>\n",
       "      <td>81.0</td>\n",
       "      <td>NaN</td>\n",
       "      <td>DESISTÊNCIA DA SOLICITAÇÃO</td>\n",
       "    </tr>\n",
       "    <tr>\n",
       "      <th>2</th>\n",
       "      <td>2022-01-01</td>\n",
       "      <td>00:09:38</td>\n",
       "      <td>MACAPARANA</td>\n",
       "      <td>CENTRO</td>\n",
       "      <td>R POSSIDONIO JULIAO DA SILVA</td>\n",
       "      <td>VIA PÚBLICA</td>\n",
       "      <td>CAUSAS EXTERNAS</td>\n",
       "      <td>OUTROS</td>\n",
       "      <td>MASCULINO</td>\n",
       "      <td>0.0</td>\n",
       "      <td>REGULAÇÃO POR TELEFONE</td>\n",
       "      <td>SEM DESFECHO</td>\n",
       "    </tr>\n",
       "    <tr>\n",
       "      <th>3</th>\n",
       "      <td>2022-01-01</td>\n",
       "      <td>00:10:02</td>\n",
       "      <td>VITORIA DE SANTO ANTAO</td>\n",
       "      <td>CENTRO</td>\n",
       "      <td>RUA JOSE COSTA N 93 BAIRRO DA</td>\n",
       "      <td>RESIDENCIAL</td>\n",
       "      <td>GERAIS/OUTROS</td>\n",
       "      <td>OUTROS</td>\n",
       "      <td>FEMININO</td>\n",
       "      <td>NaN</td>\n",
       "      <td>DESISTÊNCIA DA SOLICITAÇÃO</td>\n",
       "      <td>SEM DESFECHO</td>\n",
       "    </tr>\n",
       "    <tr>\n",
       "      <th>4</th>\n",
       "      <td>2022-01-01</td>\n",
       "      <td>00:12:16</td>\n",
       "      <td>PALMARES</td>\n",
       "      <td>PALMARES CENTRO</td>\n",
       "      <td>RUA DOUTOR COSTA MAIA</td>\n",
       "      <td>RESIDENCIAL</td>\n",
       "      <td>GERAIS/OUTROS</td>\n",
       "      <td>OUTROS</td>\n",
       "      <td>MASCULINO</td>\n",
       "      <td>84.0</td>\n",
       "      <td>NaN</td>\n",
       "      <td>OCORRÊNCIA CONCLUÍDA COM ÊXITO</td>\n",
       "    </tr>\n",
       "    <tr>\n",
       "      <th>...</th>\n",
       "      <td>...</td>\n",
       "      <td>...</td>\n",
       "      <td>...</td>\n",
       "      <td>...</td>\n",
       "      <td>...</td>\n",
       "      <td>...</td>\n",
       "      <td>...</td>\n",
       "      <td>...</td>\n",
       "      <td>...</td>\n",
       "      <td>...</td>\n",
       "      <td>...</td>\n",
       "      <td>...</td>\n",
       "    </tr>\n",
       "    <tr>\n",
       "      <th>94685</th>\n",
       "      <td>2022-06-30</td>\n",
       "      <td>23:50:01</td>\n",
       "      <td>RECIFE</td>\n",
       "      <td>IPUTINGA</td>\n",
       "      <td>R PEDRO MAX</td>\n",
       "      <td>RESIDENCIAL</td>\n",
       "      <td>CAUSAS EXTERNAS</td>\n",
       "      <td>OUTROS</td>\n",
       "      <td>FEMININO</td>\n",
       "      <td>48.0</td>\n",
       "      <td>DESISTÊNCIA DA SOLICITAÇÃO</td>\n",
       "      <td>SEM DESFECHO</td>\n",
       "    </tr>\n",
       "    <tr>\n",
       "      <th>94686</th>\n",
       "      <td>2022-06-30</td>\n",
       "      <td>23:51:07</td>\n",
       "      <td>JABOATAO DOS GUARARAPES</td>\n",
       "      <td>GUARARAPES</td>\n",
       "      <td>R ANDURINHA</td>\n",
       "      <td>RESIDENCIAL</td>\n",
       "      <td>RESPIRATORIA</td>\n",
       "      <td>OUTROS</td>\n",
       "      <td>FEMININO</td>\n",
       "      <td>74.0</td>\n",
       "      <td>NaN</td>\n",
       "      <td>OCORRÊNCIA CONCLUÍDA COM ÊXITO</td>\n",
       "    </tr>\n",
       "    <tr>\n",
       "      <th>94687</th>\n",
       "      <td>2022-06-30</td>\n",
       "      <td>23:52:53</td>\n",
       "      <td>PAULISTA</td>\n",
       "      <td>PARATIBE</td>\n",
       "      <td>BR 101 SENTIDO ABREU E LIMA</td>\n",
       "      <td>VIA PÚBLICA</td>\n",
       "      <td>CAUSAS EXTERNAS</td>\n",
       "      <td>ATROPELAMENTO POR CARRO</td>\n",
       "      <td>MASCULINO</td>\n",
       "      <td>0.0</td>\n",
       "      <td>NaN</td>\n",
       "      <td>OCORRÊNCIA CONCLUÍDA COM ÊXITO</td>\n",
       "    </tr>\n",
       "    <tr>\n",
       "      <th>94688</th>\n",
       "      <td>2022-06-30</td>\n",
       "      <td>23:53:34</td>\n",
       "      <td>RECIFE</td>\n",
       "      <td>IPUTINGA</td>\n",
       "      <td>RUA ALMIRANTE PEDRO MARQUES</td>\n",
       "      <td>RESIDENCIAL</td>\n",
       "      <td>GERAIS/OUTROS</td>\n",
       "      <td>OUTROS</td>\n",
       "      <td>FEMININO</td>\n",
       "      <td>48.0</td>\n",
       "      <td>DESISTÊNCIA DA SOLICITAÇÃO</td>\n",
       "      <td>SEM DESFECHO</td>\n",
       "    </tr>\n",
       "    <tr>\n",
       "      <th>94689</th>\n",
       "      <td>2022-06-30</td>\n",
       "      <td>23:56:50</td>\n",
       "      <td>RECIFE</td>\n",
       "      <td>VASCO DA GAMA</td>\n",
       "      <td>R MARIALVA</td>\n",
       "      <td>RESIDENCIAL</td>\n",
       "      <td>CARDIOLOGICA</td>\n",
       "      <td>OUTROS</td>\n",
       "      <td>FEMININO</td>\n",
       "      <td>93.0</td>\n",
       "      <td>NaN</td>\n",
       "      <td>OCORRÊNCIA CONCLUÍDA COM ÊXITO</td>\n",
       "    </tr>\n",
       "  </tbody>\n",
       "</table>\n",
       "<p>94690 rows × 12 columns</p>\n",
       "</div>"
      ],
      "text/plain": [
       "             data hora_minuto                municipio            bairro  \\\n",
       "0      2022-01-01    00:02:19                   RECIFE  JARDIM SAO PAULO   \n",
       "1      2022-01-01    00:03:00                   RECIFE          MADALENA   \n",
       "2      2022-01-01    00:09:38               MACAPARANA            CENTRO   \n",
       "3      2022-01-01    00:10:02   VITORIA DE SANTO ANTAO            CENTRO   \n",
       "4      2022-01-01    00:12:16                 PALMARES   PALMARES CENTRO   \n",
       "...           ...         ...                      ...               ...   \n",
       "94685  2022-06-30    23:50:01                   RECIFE          IPUTINGA   \n",
       "94686  2022-06-30    23:51:07  JABOATAO DOS GUARARAPES        GUARARAPES   \n",
       "94687  2022-06-30    23:52:53                 PAULISTA          PARATIBE   \n",
       "94688  2022-06-30    23:53:34                   RECIFE          IPUTINGA   \n",
       "94689  2022-06-30    23:56:50                   RECIFE     VASCO DA GAMA   \n",
       "\n",
       "                            endereco origem_chamado             tipo  \\\n",
       "0                  R LEANDRO BARRETO    RESIDENCIAL     RESPIRATORIA   \n",
       "1                          R ALTINHO    RESIDENCIAL  CAUSAS EXTERNAS   \n",
       "2       R POSSIDONIO JULIAO DA SILVA    VIA PÚBLICA  CAUSAS EXTERNAS   \n",
       "3      RUA JOSE COSTA N 93 BAIRRO DA    RESIDENCIAL    GERAIS/OUTROS   \n",
       "4              RUA DOUTOR COSTA MAIA    RESIDENCIAL    GERAIS/OUTROS   \n",
       "...                              ...            ...              ...   \n",
       "94685                    R PEDRO MAX    RESIDENCIAL  CAUSAS EXTERNAS   \n",
       "94686                    R ANDURINHA    RESIDENCIAL     RESPIRATORIA   \n",
       "94687    BR 101 SENTIDO ABREU E LIMA    VIA PÚBLICA  CAUSAS EXTERNAS   \n",
       "94688    RUA ALMIRANTE PEDRO MARQUES    RESIDENCIAL    GERAIS/OUTROS   \n",
       "94689                     R MARIALVA    RESIDENCIAL     CARDIOLOGICA   \n",
       "\n",
       "                       subtipo       sexo  idade          motivo_finalizacao  \\\n",
       "0       CASO SUSPEITO COVID-19   FEMININO   81.0                         NaN   \n",
       "1      QUEDA DA PROPRIA ALTURA   FEMININO   81.0                         NaN   \n",
       "2                       OUTROS  MASCULINO    0.0      REGULAÇÃO POR TELEFONE   \n",
       "3                       OUTROS   FEMININO    NaN  DESISTÊNCIA DA SOLICITAÇÃO   \n",
       "4                       OUTROS  MASCULINO   84.0                         NaN   \n",
       "...                        ...        ...    ...                         ...   \n",
       "94685                   OUTROS   FEMININO   48.0  DESISTÊNCIA DA SOLICITAÇÃO   \n",
       "94686                   OUTROS   FEMININO   74.0                         NaN   \n",
       "94687  ATROPELAMENTO POR CARRO  MASCULINO    0.0                         NaN   \n",
       "94688                   OUTROS   FEMININO   48.0  DESISTÊNCIA DA SOLICITAÇÃO   \n",
       "94689                   OUTROS   FEMININO   93.0                         NaN   \n",
       "\n",
       "                      motivo_desfecho  \n",
       "0        PACIENTE RECUSA SER REMOVIDO  \n",
       "1          DESISTÊNCIA DA SOLICITAÇÃO  \n",
       "2                        SEM DESFECHO  \n",
       "3                        SEM DESFECHO  \n",
       "4      OCORRÊNCIA CONCLUÍDA COM ÊXITO  \n",
       "...                               ...  \n",
       "94685                    SEM DESFECHO  \n",
       "94686  OCORRÊNCIA CONCLUÍDA COM ÊXITO  \n",
       "94687  OCORRÊNCIA CONCLUÍDA COM ÊXITO  \n",
       "94688                    SEM DESFECHO  \n",
       "94689  OCORRÊNCIA CONCLUÍDA COM ÊXITO  \n",
       "\n",
       "[94690 rows x 12 columns]"
      ]
     },
     "execution_count": 3,
     "metadata": {},
     "output_type": "execute_result"
    }
   ],
   "source": [
    "dtypes = {\n",
    "    \"hora_minuto\":  str,\n",
    "    \"municipio\": \"category\",\n",
    "    \"bairro\": \"category\",\n",
    "    \"endereco\": \"category\",\n",
    "    \"origem_chamado\": \"category\",\n",
    "    \"tipo\": \"category\",\n",
    "    \"subtipo\": \"category\",\n",
    "    \"sexo\": \"category\",\n",
    "    \"idade\": float,\n",
    "    \"motivo_finalizacao\": \"category\",\n",
    "    \"motivo_desfecho\": \"category\",\n",
    "}\n",
    "\n",
    "columns_to_datetime = [\"data\"]\n",
    "\n",
    "raw_df = pd.read_csv(\"./datasets/ocorrencias2022.csv\", sep=';', dtype=dtypes, parse_dates=columns_to_datetime)\n",
    "raw_df"
   ]
  },
  {
   "cell_type": "markdown",
   "metadata": {},
   "source": [
    "Considerações iniciais sobre o dataset\n",
    "\n",
    "O dataset descreve ligações para o Serviço de Atendimento Móvel de Urgência (SAMU), realizados no ano de 2022.\n",
    "Possui informações que:\n",
    "Identificam o local e hora onde uma ocorrência foi registrada;\n",
    "sexo e idade que identificam o indivíduo responsável pelo chamdado, "
   ]
  },
  {
   "cell_type": "code",
   "execution_count": 4,
   "metadata": {},
   "outputs": [
    {
     "data": {
      "text/html": [
       "<div>\n",
       "<style scoped>\n",
       "    .dataframe tbody tr th:only-of-type {\n",
       "        vertical-align: middle;\n",
       "    }\n",
       "\n",
       "    .dataframe tbody tr th {\n",
       "        vertical-align: top;\n",
       "    }\n",
       "\n",
       "    .dataframe thead th {\n",
       "        text-align: right;\n",
       "    }\n",
       "</style>\n",
       "<table border=\"1\" class=\"dataframe\">\n",
       "  <thead>\n",
       "    <tr style=\"text-align: right;\">\n",
       "      <th></th>\n",
       "      <th>idade</th>\n",
       "    </tr>\n",
       "  </thead>\n",
       "  <tbody>\n",
       "    <tr>\n",
       "      <th>count</th>\n",
       "      <td>93764.000000</td>\n",
       "    </tr>\n",
       "    <tr>\n",
       "      <th>mean</th>\n",
       "      <td>47.013886</td>\n",
       "    </tr>\n",
       "    <tr>\n",
       "      <th>std</th>\n",
       "      <td>25.460475</td>\n",
       "    </tr>\n",
       "    <tr>\n",
       "      <th>min</th>\n",
       "      <td>0.000000</td>\n",
       "    </tr>\n",
       "    <tr>\n",
       "      <th>25%</th>\n",
       "      <td>28.000000</td>\n",
       "    </tr>\n",
       "    <tr>\n",
       "      <th>50%</th>\n",
       "      <td>47.000000</td>\n",
       "    </tr>\n",
       "    <tr>\n",
       "      <th>75%</th>\n",
       "      <td>67.000000</td>\n",
       "    </tr>\n",
       "    <tr>\n",
       "      <th>max</th>\n",
       "      <td>747.000000</td>\n",
       "    </tr>\n",
       "  </tbody>\n",
       "</table>\n",
       "</div>"
      ],
      "text/plain": [
       "              idade\n",
       "count  93764.000000\n",
       "mean      47.013886\n",
       "std       25.460475\n",
       "min        0.000000\n",
       "25%       28.000000\n",
       "50%       47.000000\n",
       "75%       67.000000\n",
       "max      747.000000"
      ]
     },
     "execution_count": 4,
     "metadata": {},
     "output_type": "execute_result"
    }
   ],
   "source": [
    "raw_df.describe()"
   ]
  },
  {
   "cell_type": "code",
   "execution_count": null,
   "metadata": {},
   "outputs": [],
   "source": [
    "raw_df.dtypes"
   ]
  },
  {
   "cell_type": "code",
   "execution_count": 5,
   "metadata": {},
   "outputs": [
    {
     "data": {
      "text/plain": [
       "data                      0\n",
       "hora_minuto               0\n",
       "municipio                 3\n",
       "bairro                    4\n",
       "endereco               1914\n",
       "origem_chamado            0\n",
       "tipo                      0\n",
       "subtipo                  17\n",
       "sexo                   1399\n",
       "idade                   926\n",
       "motivo_finalizacao    60456\n",
       "motivo_desfecho           0\n",
       "dtype: int64"
      ]
     },
     "execution_count": 5,
     "metadata": {},
     "output_type": "execute_result"
    }
   ],
   "source": [
    "raw_df.isna().sum()"
   ]
  },
  {
   "cell_type": "markdown",
   "metadata": {},
   "source": [
    "Mais da metade do dataset está com a coluna \"motivo_finalizacao\" vazia, será impraticável utilizar essa coluna na nossa análise, portanto removeremos ela.\n",
    "\n",
    "para o restante das colunas, nós removeremos as instâncias que contém alguma coluna vazia, com exceção da coluna de endereço, já que ela não vai ser tão útil para a análise que queremos.\n",
    "\n",
    "A remoção dessas instâncias não vão fazer muita diferença já que a quantidade das linhas removidas são ínfimas, (menos de 5%), em comparação à quantidade total de dados do dataset."
   ]
  },
  {
   "cell_type": "markdown",
   "metadata": {},
   "source": [
    "Tratando dados vazios"
   ]
  },
  {
   "cell_type": "markdown",
   "metadata": {},
   "source": [
    "Grande parte dos motivos de finalização estão vazios.\n",
    "Sexo e idade tem um número relevante de valores faltantes, então utilizamos a função fillna(), com o método forward fill.\n",
    "\n",
    "Com base nessa distribuição de valores faltantes, decidimos focar as análises em "
   ]
  },
  {
   "cell_type": "code",
   "execution_count": null,
   "metadata": {},
   "outputs": [],
   "source": [
    "raw_df = raw_df.drop(\"motivo_finalizacao\", axis=1)\n",
    "raw_df = raw_df.dropna(subset=[\"municipio\", \"bairro\", \"subtipo\", \"sexo\", \"idade\"])\n",
    "raw_df.isna().sum()"
   ]
  },
  {
   "cell_type": "code",
   "execution_count": null,
   "metadata": {},
   "outputs": [],
   "source": [
    "raw_df[\"idade\"].describe()"
   ]
  },
  {
   "cell_type": "markdown",
   "metadata": {},
   "source": [
    "ter a idade máxima de 747 é impossível, uma passada no google diz que há pessoas com certificados de nascimento entre 115 anos até 121 anos, portanto nós escolhemos definir uma idade máxima de 120 anos para deixar mais fácil de discretizar a idade em uma série de 6 categorias."
   ]
  },
  {
   "cell_type": "code",
   "execution_count": null,
   "metadata": {},
   "outputs": [],
   "source": [
    "def older_than_120(age: int):\n",
    "  if age >= 120:\n",
    "    return 120\n",
    "  return age\n",
    "\n",
    "raw_df[\"idade\"] = raw_df[\"idade\"].apply(lambda x : older_than_120(x))\n",
    "raw_df[\"idade\"].describe()"
   ]
  },
  {
   "cell_type": "code",
   "execution_count": null,
   "metadata": {},
   "outputs": [],
   "source": [
    "raw_df[\"faixa_etaria\"] = pd.cut(raw_df[\"idade\"], 6)\n",
    "raw_df[\"faixa_etaria\"]"
   ]
  },
  {
   "cell_type": "markdown",
   "metadata": {},
   "source": [
    "Teste de hipótese:"
   ]
  },
  {
   "cell_type": "code",
   "execution_count": null,
   "metadata": {},
   "outputs": [],
   "source": [
    "idade_ascending = raw_df.groupby(\"municipio\")[\"idade\"].mean().sort_values(ascending=True)\n",
    "idade_ascending.plot.box()"
   ]
  },
  {
   "cell_type": "code",
   "execution_count": null,
   "metadata": {},
   "outputs": [],
   "source": [
    "idade_ascending.plot.hist()"
   ]
  },
  {
   "cell_type": "code",
   "execution_count": null,
   "metadata": {},
   "outputs": [],
   "source": [
    "stats.shapiro(idade_ascending)[1]"
   ]
  }
 ],
 "metadata": {
  "kernelspec": {
   "display_name": "Python 3.10.4 64-bit",
   "language": "python",
   "name": "python3"
  },
  "language_info": {
   "codemirror_mode": {
    "name": "ipython",
    "version": 3
   },
   "file_extension": ".py",
   "mimetype": "text/x-python",
   "name": "python",
   "nbconvert_exporter": "python",
   "pygments_lexer": "ipython3",
   "version": "3.10.4"
  },
  "orig_nbformat": 4,
  "vscode": {
   "interpreter": {
    "hash": "916dbcbb3f70747c44a77c7bcd40155683ae19c65e1c03b4aa3499c5328201f1"
   }
  }
 },
 "nbformat": 4,
 "nbformat_minor": 2
}
