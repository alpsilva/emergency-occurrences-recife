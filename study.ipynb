{
 "cells": [
  {
   "cell_type": "markdown",
   "metadata": {},
   "source": [
    "Necessary imports"
   ]
  },
  {
   "cell_type": "code",
   "execution_count": 13,
   "metadata": {},
   "outputs": [
    {
     "name": "stdout",
     "output_type": "stream",
     "text": [
      "Defaulting to user installation because normal site-packages is not writeable\n",
      "Requirement already satisfied: pandas in /home/alps2/.local/lib/python3.10/site-packages (1.4.3)\n",
      "Requirement already satisfied: python-dateutil>=2.8.1 in /home/alps2/.local/lib/python3.10/site-packages (from pandas) (2.8.2)\n",
      "Requirement already satisfied: pytz>=2020.1 in /usr/lib/python3/dist-packages (from pandas) (2022.1)\n",
      "Requirement already satisfied: numpy>=1.21.0 in /home/alps2/.local/lib/python3.10/site-packages (from pandas) (1.23.2)\n",
      "Requirement already satisfied: six>=1.5 in /usr/lib/python3/dist-packages (from python-dateutil>=2.8.1->pandas) (1.16.0)\n",
      "Note: you may need to restart the kernel to use updated packages.\n",
      "Defaulting to user installation because normal site-packages is not writeable\n",
      "Requirement already satisfied: plotly in /home/alps2/.local/lib/python3.10/site-packages (5.10.0)\n",
      "Requirement already satisfied: tenacity>=6.2.0 in /home/alps2/.local/lib/python3.10/site-packages (from plotly) (8.0.1)\n",
      "Note: you may need to restart the kernel to use updated packages.\n",
      "Defaulting to user installation because normal site-packages is not writeable\n",
      "Requirement already satisfied: matplotlib in /home/alps2/.local/lib/python3.10/site-packages (3.5.3)\n",
      "Requirement already satisfied: cycler>=0.10 in /home/alps2/.local/lib/python3.10/site-packages (from matplotlib) (0.11.0)\n",
      "Requirement already satisfied: numpy>=1.17 in /home/alps2/.local/lib/python3.10/site-packages (from matplotlib) (1.23.2)\n",
      "Requirement already satisfied: python-dateutil>=2.7 in /home/alps2/.local/lib/python3.10/site-packages (from matplotlib) (2.8.2)\n",
      "Requirement already satisfied: packaging>=20.0 in /home/alps2/.local/lib/python3.10/site-packages (from matplotlib) (21.3)\n",
      "Requirement already satisfied: fonttools>=4.22.0 in /home/alps2/.local/lib/python3.10/site-packages (from matplotlib) (4.36.0)\n",
      "Requirement already satisfied: pillow>=6.2.0 in /usr/lib/python3/dist-packages (from matplotlib) (9.0.1)\n",
      "Requirement already satisfied: pyparsing>=2.2.1 in /usr/lib/python3/dist-packages (from matplotlib) (2.4.7)\n",
      "Requirement already satisfied: kiwisolver>=1.0.1 in /home/alps2/.local/lib/python3.10/site-packages (from matplotlib) (1.4.4)\n",
      "Requirement already satisfied: six>=1.5 in /usr/lib/python3/dist-packages (from python-dateutil>=2.7->matplotlib) (1.16.0)\n",
      "Note: you may need to restart the kernel to use updated packages.\n",
      "Defaulting to user installation because normal site-packages is not writeable\n",
      "Requirement already satisfied: scipy in /home/alps2/.local/lib/python3.10/site-packages (1.9.0)\n",
      "Requirement already satisfied: numpy<1.25.0,>=1.18.5 in /home/alps2/.local/lib/python3.10/site-packages (from scipy) (1.23.2)\n",
      "Note: you may need to restart the kernel to use updated packages.\n"
     ]
    }
   ],
   "source": [
    "%pip install pandas\n",
    "%pip install plotly\n",
    "%pip install matplotlib\n",
    "%pip install scipy\n",
    "\n",
    "from scipy import stats\n",
    "import pandas as pd\n",
    "import plotly.express as px"
   ]
  },
  {
   "cell_type": "markdown",
   "metadata": {},
   "source": [
    "# Carregamento de dados\n",
    "\n",
    "A partir do site que pegamos o arquivo (http://dados.recife.pe.gov.br/pt_BR/dataset/servico-de-atendimento-movel-de-urgencia-samu-2022/resource/7c005351-2d14-46cf-b2f0-6622a5553b30), os tipos dos dados são:\n",
    "\n",
    "data: timestamp\n",
    "\n",
    "hora_minuto: text municipio: text\n",
    "\n",
    "bairro: text\n",
    "\n",
    "endereco: text\n",
    "\n",
    "origem_chamado: text\n",
    "\n",
    "tipo: text\n",
    "\n",
    "subtipo: text\n",
    "\n",
    "sexo: text\n",
    "\n",
    "idade: numeric\n",
    "\n",
    "motivo_finalizacao: text\n",
    "\n",
    "motivo_desfecho: text"
   ]
  },
  {
   "cell_type": "code",
   "execution_count": 3,
   "metadata": {},
   "outputs": [
    {
     "data": {
      "text/html": [
       "<div>\n",
       "<style scoped>\n",
       "    .dataframe tbody tr th:only-of-type {\n",
       "        vertical-align: middle;\n",
       "    }\n",
       "\n",
       "    .dataframe tbody tr th {\n",
       "        vertical-align: top;\n",
       "    }\n",
       "\n",
       "    .dataframe thead th {\n",
       "        text-align: right;\n",
       "    }\n",
       "</style>\n",
       "<table border=\"1\" class=\"dataframe\">\n",
       "  <thead>\n",
       "    <tr style=\"text-align: right;\">\n",
       "      <th></th>\n",
       "      <th>data</th>\n",
       "      <th>hora_minuto</th>\n",
       "      <th>municipio</th>\n",
       "      <th>bairro</th>\n",
       "      <th>endereco</th>\n",
       "      <th>origem_chamado</th>\n",
       "      <th>tipo</th>\n",
       "      <th>subtipo</th>\n",
       "      <th>sexo</th>\n",
       "      <th>idade</th>\n",
       "      <th>motivo_finalizacao</th>\n",
       "      <th>motivo_desfecho</th>\n",
       "    </tr>\n",
       "  </thead>\n",
       "  <tbody>\n",
       "    <tr>\n",
       "      <th>0</th>\n",
       "      <td>2022-01-01</td>\n",
       "      <td>00:02:19</td>\n",
       "      <td>RECIFE</td>\n",
       "      <td>JARDIM SAO PAULO</td>\n",
       "      <td>R LEANDRO BARRETO</td>\n",
       "      <td>RESIDENCIAL</td>\n",
       "      <td>RESPIRATORIA</td>\n",
       "      <td>CASO SUSPEITO COVID-19</td>\n",
       "      <td>FEMININO</td>\n",
       "      <td>81.0</td>\n",
       "      <td>NaN</td>\n",
       "      <td>PACIENTE RECUSA SER REMOVIDO</td>\n",
       "    </tr>\n",
       "    <tr>\n",
       "      <th>1</th>\n",
       "      <td>2022-01-01</td>\n",
       "      <td>00:03:00</td>\n",
       "      <td>RECIFE</td>\n",
       "      <td>MADALENA</td>\n",
       "      <td>R ALTINHO</td>\n",
       "      <td>RESIDENCIAL</td>\n",
       "      <td>CAUSAS EXTERNAS</td>\n",
       "      <td>QUEDA DA PROPRIA ALTURA</td>\n",
       "      <td>FEMININO</td>\n",
       "      <td>81.0</td>\n",
       "      <td>NaN</td>\n",
       "      <td>DESISTÊNCIA DA SOLICITAÇÃO</td>\n",
       "    </tr>\n",
       "    <tr>\n",
       "      <th>2</th>\n",
       "      <td>2022-01-01</td>\n",
       "      <td>00:09:38</td>\n",
       "      <td>MACAPARANA</td>\n",
       "      <td>CENTRO</td>\n",
       "      <td>R POSSIDONIO JULIAO DA SILVA</td>\n",
       "      <td>VIA PÚBLICA</td>\n",
       "      <td>CAUSAS EXTERNAS</td>\n",
       "      <td>OUTROS</td>\n",
       "      <td>MASCULINO</td>\n",
       "      <td>0.0</td>\n",
       "      <td>REGULAÇÃO POR TELEFONE</td>\n",
       "      <td>SEM DESFECHO</td>\n",
       "    </tr>\n",
       "    <tr>\n",
       "      <th>3</th>\n",
       "      <td>2022-01-01</td>\n",
       "      <td>00:10:02</td>\n",
       "      <td>VITORIA DE SANTO ANTAO</td>\n",
       "      <td>CENTRO</td>\n",
       "      <td>RUA JOSE COSTA N 93 BAIRRO DA</td>\n",
       "      <td>RESIDENCIAL</td>\n",
       "      <td>GERAIS/OUTROS</td>\n",
       "      <td>OUTROS</td>\n",
       "      <td>FEMININO</td>\n",
       "      <td>NaN</td>\n",
       "      <td>DESISTÊNCIA DA SOLICITAÇÃO</td>\n",
       "      <td>SEM DESFECHO</td>\n",
       "    </tr>\n",
       "    <tr>\n",
       "      <th>4</th>\n",
       "      <td>2022-01-01</td>\n",
       "      <td>00:12:16</td>\n",
       "      <td>PALMARES</td>\n",
       "      <td>PALMARES CENTRO</td>\n",
       "      <td>RUA DOUTOR COSTA MAIA</td>\n",
       "      <td>RESIDENCIAL</td>\n",
       "      <td>GERAIS/OUTROS</td>\n",
       "      <td>OUTROS</td>\n",
       "      <td>MASCULINO</td>\n",
       "      <td>84.0</td>\n",
       "      <td>NaN</td>\n",
       "      <td>OCORRÊNCIA CONCLUÍDA COM ÊXITO</td>\n",
       "    </tr>\n",
       "  </tbody>\n",
       "</table>\n",
       "</div>"
      ],
      "text/plain": [
       "        data hora_minuto               municipio            bairro  \\\n",
       "0 2022-01-01    00:02:19                  RECIFE  JARDIM SAO PAULO   \n",
       "1 2022-01-01    00:03:00                  RECIFE          MADALENA   \n",
       "2 2022-01-01    00:09:38              MACAPARANA            CENTRO   \n",
       "3 2022-01-01    00:10:02  VITORIA DE SANTO ANTAO            CENTRO   \n",
       "4 2022-01-01    00:12:16                PALMARES   PALMARES CENTRO   \n",
       "\n",
       "                        endereco origem_chamado             tipo  \\\n",
       "0              R LEANDRO BARRETO    RESIDENCIAL     RESPIRATORIA   \n",
       "1                      R ALTINHO    RESIDENCIAL  CAUSAS EXTERNAS   \n",
       "2   R POSSIDONIO JULIAO DA SILVA    VIA PÚBLICA  CAUSAS EXTERNAS   \n",
       "3  RUA JOSE COSTA N 93 BAIRRO DA    RESIDENCIAL    GERAIS/OUTROS   \n",
       "4          RUA DOUTOR COSTA MAIA    RESIDENCIAL    GERAIS/OUTROS   \n",
       "\n",
       "                   subtipo       sexo  idade          motivo_finalizacao  \\\n",
       "0   CASO SUSPEITO COVID-19   FEMININO   81.0                         NaN   \n",
       "1  QUEDA DA PROPRIA ALTURA   FEMININO   81.0                         NaN   \n",
       "2                   OUTROS  MASCULINO    0.0      REGULAÇÃO POR TELEFONE   \n",
       "3                   OUTROS   FEMININO    NaN  DESISTÊNCIA DA SOLICITAÇÃO   \n",
       "4                   OUTROS  MASCULINO   84.0                         NaN   \n",
       "\n",
       "                  motivo_desfecho  \n",
       "0    PACIENTE RECUSA SER REMOVIDO  \n",
       "1      DESISTÊNCIA DA SOLICITAÇÃO  \n",
       "2                    SEM DESFECHO  \n",
       "3                    SEM DESFECHO  \n",
       "4  OCORRÊNCIA CONCLUÍDA COM ÊXITO  "
      ]
     },
     "execution_count": 3,
     "metadata": {},
     "output_type": "execute_result"
    }
   ],
   "source": [
    "dtypes = {\n",
    "    \"hora_minuto\":  str,\n",
    "    \"municipio\": \"category\",\n",
    "    \"bairro\": \"category\",\n",
    "    \"endereco\": \"category\",\n",
    "    \"origem_chamado\": \"category\",\n",
    "    \"tipo\": \"category\",\n",
    "    \"subtipo\": \"category\",\n",
    "    \"sexo\": \"category\",\n",
    "    \"idade\": float,\n",
    "    \"motivo_finalizacao\": \"category\",\n",
    "    \"motivo_desfecho\": \"category\",\n",
    "}\n",
    "\n",
    "columns_to_datetime = [\"data\"]\n",
    "\n",
    "raw_df = pd.read_csv(\"./datasets/ocorrencias2022.csv\", sep=';', dtype=dtypes, parse_dates=columns_to_datetime)\n",
    "raw_df.head()"
   ]
  },
  {
   "cell_type": "markdown",
   "metadata": {},
   "source": [
    "# Considerações iniciais sobre o dataset\n",
    "\n",
    "O dataset descreve ligações para o Serviço de Atendimento Móvel de Urgência (SAMU), realizados no ano de 2022.\n",
    "Possui informações que identificam:\n",
    "\n",
    "O local e hora onde uma ocorrência foi registrada;\n",
    "\n",
    "Sexo e idade que identificam o indivíduo responsável pelo chamado;\n",
    "\n",
    "Municipio, Bairro e Endereço do chamado;\n",
    "\n",
    "Tipo e Subtipo do chamado;\n",
    "\n",
    "E por fim, motivos da finalização e desfecho do chamado."
   ]
  },
  {
   "cell_type": "code",
   "execution_count": 4,
   "metadata": {},
   "outputs": [
    {
     "data": {
      "text/html": [
       "<div>\n",
       "<style scoped>\n",
       "    .dataframe tbody tr th:only-of-type {\n",
       "        vertical-align: middle;\n",
       "    }\n",
       "\n",
       "    .dataframe tbody tr th {\n",
       "        vertical-align: top;\n",
       "    }\n",
       "\n",
       "    .dataframe thead th {\n",
       "        text-align: right;\n",
       "    }\n",
       "</style>\n",
       "<table border=\"1\" class=\"dataframe\">\n",
       "  <thead>\n",
       "    <tr style=\"text-align: right;\">\n",
       "      <th></th>\n",
       "      <th>idade</th>\n",
       "    </tr>\n",
       "  </thead>\n",
       "  <tbody>\n",
       "    <tr>\n",
       "      <th>count</th>\n",
       "      <td>93764.000000</td>\n",
       "    </tr>\n",
       "    <tr>\n",
       "      <th>mean</th>\n",
       "      <td>47.013886</td>\n",
       "    </tr>\n",
       "    <tr>\n",
       "      <th>std</th>\n",
       "      <td>25.460475</td>\n",
       "    </tr>\n",
       "    <tr>\n",
       "      <th>min</th>\n",
       "      <td>0.000000</td>\n",
       "    </tr>\n",
       "    <tr>\n",
       "      <th>25%</th>\n",
       "      <td>28.000000</td>\n",
       "    </tr>\n",
       "    <tr>\n",
       "      <th>50%</th>\n",
       "      <td>47.000000</td>\n",
       "    </tr>\n",
       "    <tr>\n",
       "      <th>75%</th>\n",
       "      <td>67.000000</td>\n",
       "    </tr>\n",
       "    <tr>\n",
       "      <th>max</th>\n",
       "      <td>747.000000</td>\n",
       "    </tr>\n",
       "  </tbody>\n",
       "</table>\n",
       "</div>"
      ],
      "text/plain": [
       "              idade\n",
       "count  93764.000000\n",
       "mean      47.013886\n",
       "std       25.460475\n",
       "min        0.000000\n",
       "25%       28.000000\n",
       "50%       47.000000\n",
       "75%       67.000000\n",
       "max      747.000000"
      ]
     },
     "execution_count": 4,
     "metadata": {},
     "output_type": "execute_result"
    }
   ],
   "source": [
    "raw_df.describe()"
   ]
  },
  {
   "cell_type": "code",
   "execution_count": 5,
   "metadata": {},
   "outputs": [
    {
     "data": {
      "text/plain": [
       "data                  datetime64[ns]\n",
       "hora_minuto                   object\n",
       "municipio                   category\n",
       "bairro                      category\n",
       "endereco                    category\n",
       "origem_chamado              category\n",
       "tipo                        category\n",
       "subtipo                     category\n",
       "sexo                        category\n",
       "idade                        float64\n",
       "motivo_finalizacao          category\n",
       "motivo_desfecho             category\n",
       "dtype: object"
      ]
     },
     "execution_count": 5,
     "metadata": {},
     "output_type": "execute_result"
    }
   ],
   "source": [
    "raw_df.dtypes"
   ]
  },
  {
   "cell_type": "code",
   "execution_count": 6,
   "metadata": {},
   "outputs": [
    {
     "data": {
      "text/plain": [
       "data                      0\n",
       "hora_minuto               0\n",
       "municipio                 3\n",
       "bairro                    4\n",
       "endereco               1914\n",
       "origem_chamado            0\n",
       "tipo                      0\n",
       "subtipo                  17\n",
       "sexo                   1399\n",
       "idade                   926\n",
       "motivo_finalizacao    60456\n",
       "motivo_desfecho           0\n",
       "dtype: int64"
      ]
     },
     "execution_count": 6,
     "metadata": {},
     "output_type": "execute_result"
    }
   ],
   "source": [
    "raw_df.isna().sum()"
   ]
  },
  {
   "cell_type": "markdown",
   "metadata": {},
   "source": [
    "Já que mais da metade do dataset está com a coluna \"motivo_finalizacao\" vazia, será impraticável utilizar essa coluna na nossa análise, portanto removeremos ela.\n",
    "\n",
    "para o restante das colunas, nós removeremos as instâncias que contém alguma coluna vazia, com exceção da coluna de endereço, já que ela não vai ser tão útil para a análise que queremos.\n",
    "\n",
    "A remoção dessas instâncias não vão fazer muita diferença já que a quantidade das linhas removidas são ínfimas, (menos de 5%), em comparação à quantidade total de dados do dataset."
   ]
  },
  {
   "cell_type": "markdown",
   "metadata": {},
   "source": [
    "Tratando dados vazios"
   ]
  },
  {
   "cell_type": "markdown",
   "metadata": {},
   "source": [
    "Grande parte dos motivos de finalização estão vazios.\n",
    "Sexo e idade tem um número relevante de valores faltantes, então utilizamos a função fillna(), com o método forward fill."
   ]
  },
  {
   "cell_type": "code",
   "execution_count": 7,
   "metadata": {},
   "outputs": [
    {
     "data": {
      "text/plain": [
       "data                  0\n",
       "hora_minuto           0\n",
       "municipio             0\n",
       "bairro                0\n",
       "endereco           1838\n",
       "origem_chamado        0\n",
       "tipo                  0\n",
       "subtipo               0\n",
       "sexo                  0\n",
       "idade                 0\n",
       "motivo_desfecho       0\n",
       "dtype: int64"
      ]
     },
     "execution_count": 7,
     "metadata": {},
     "output_type": "execute_result"
    }
   ],
   "source": [
    "raw_df = raw_df.drop(\"motivo_finalizacao\", axis=1)\n",
    "raw_df = raw_df.dropna(subset=[\"municipio\", \"bairro\", \"subtipo\", \"sexo\", \"idade\"])\n",
    "raw_df.isna().sum()"
   ]
  },
  {
   "cell_type": "code",
   "execution_count": 8,
   "metadata": {},
   "outputs": [
    {
     "data": {
      "text/plain": [
       "count    92459.000000\n",
       "mean        47.110211\n",
       "std         25.315927\n",
       "min          0.000000\n",
       "25%         28.000000\n",
       "50%         47.000000\n",
       "75%         67.000000\n",
       "max        747.000000\n",
       "Name: idade, dtype: float64"
      ]
     },
     "execution_count": 8,
     "metadata": {},
     "output_type": "execute_result"
    }
   ],
   "source": [
    "raw_df[\"idade\"].describe()"
   ]
  },
  {
   "cell_type": "markdown",
   "metadata": {},
   "source": [
    "ter a idade máxima de 747 é impossível, uma passada no google diz que há pessoas com certificados de nascimento entre 115 anos até 121 anos, portanto nós escolhemos definir uma idade máxima de 120 anos para deixar mais fácil de discretizar a idade em uma série de 6 categorias."
   ]
  },
  {
   "cell_type": "code",
   "execution_count": 9,
   "metadata": {},
   "outputs": [
    {
     "data": {
      "text/plain": [
       "count    92459.000000\n",
       "mean        47.088656\n",
       "std         25.079854\n",
       "min          0.000000\n",
       "25%         28.000000\n",
       "50%         47.000000\n",
       "75%         67.000000\n",
       "max        120.000000\n",
       "Name: idade, dtype: float64"
      ]
     },
     "execution_count": 9,
     "metadata": {},
     "output_type": "execute_result"
    }
   ],
   "source": [
    "def older_than_120(age: int):\n",
    "  if age >= 120:\n",
    "    return 120\n",
    "  return age\n",
    "\n",
    "raw_df[\"idade\"] = raw_df[\"idade\"].apply(lambda x : older_than_120(x))\n",
    "raw_df[\"idade\"].describe()"
   ]
  },
  {
   "cell_type": "code",
   "execution_count": 10,
   "metadata": {},
   "outputs": [
    {
     "data": {
      "text/plain": [
       "0        (80.0, 100.0]\n",
       "1        (80.0, 100.0]\n",
       "2        (-0.12, 20.0]\n",
       "4        (80.0, 100.0]\n",
       "5        (-0.12, 20.0]\n",
       "             ...      \n",
       "94685     (40.0, 60.0]\n",
       "94686     (60.0, 80.0]\n",
       "94687    (-0.12, 20.0]\n",
       "94688     (40.0, 60.0]\n",
       "94689    (80.0, 100.0]\n",
       "Name: faixa_etaria, Length: 92459, dtype: category\n",
       "Categories (6, interval[float64, right]): [(-0.12, 20.0] < (20.0, 40.0] < (40.0, 60.0] < (60.0, 80.0] < (80.0, 100.0] < (100.0, 120.0]]"
      ]
     },
     "execution_count": 10,
     "metadata": {},
     "output_type": "execute_result"
    }
   ],
   "source": [
    "raw_df[\"faixa_etaria\"] = pd.cut(raw_df[\"idade\"], 6)\n",
    "raw_df[\"faixa_etaria\"]"
   ]
  },
  {
   "cell_type": "code",
   "execution_count": 14,
   "metadata": {},
   "outputs": [
    {
     "data": {
      "text/plain": [
       "<AxesSubplot:>"
      ]
     },
     "execution_count": 14,
     "metadata": {},
     "output_type": "execute_result"
    },
    {
     "data": {
      "image/png": "[encoded data removed]",
      "text/plain": [
       "<Figure size 640x480 with 1 Axes>"
      ]
     },
     "metadata": {},
     "output_type": "display_data"
    }
   ],
   "source": [
    "idade_ascending = raw_df.groupby(\"municipio\")[\"idade\"].mean().sort_values(ascending=True)\n",
    "idade_ascending.plot.box()"
   ]
  },
  {
   "cell_type": "code",
   "execution_count": 15,
   "metadata": {},
   "outputs": [
    {
     "data": {
      "text/plain": [
       "<AxesSubplot:ylabel='Frequency'>"
      ]
     },
     "execution_count": 15,
     "metadata": {},
     "output_type": "execute_result"
    },
    {
     "data": {
      "image/png": "[encoded data removed]",
      "text/plain": [
       "<Figure size 640x480 with 1 Axes>"
      ]
     },
     "metadata": {},
     "output_type": "display_data"
    }
   ],
   "source": [
    "idade_ascending.plot.hist()"
   ]
  },
  {
   "cell_type": "code",
   "execution_count": 16,
   "metadata": {},
   "outputs": [
    {
     "data": {
      "text/plain": [
       "9.995663852180314e-09"
      ]
     },
     "execution_count": 16,
     "metadata": {},
     "output_type": "execute_result"
    }
   ],
   "source": [
    "stats.shapiro(idade_ascending)[1]"
   ]
  },
  {
   "cell_type": "markdown",
   "metadata": {},
   "source": [
    "# Testes de hipótese\n",
    "1. A distribuição de Faixa Etária para os tipos de ocorrência \"CARDIOLOGICA\" e \"RESPIRATORIA\" são semelhantes. \n",
    "2. As frequências de tipos de ocorrência são semelhantes para cada um dos 5 Municipios com maior número de ocorrências em Recife.\n",
    "3. Ocorrências que foram determinadas como \"TROTE\" são mais prováveis de serem atribuídas a homens.\n",
    "4. Ocorrências do tipo \"CAUSAS EXTERNAS\" resultam em mais óbitos que os demais tipos.\n",
    "\n",
    "Como o dataset não possui uma distribuição normal, utilizaremos, geralmente, os tipos de dados \"Rank\" e \"Score\"."
   ]
  },
  {
   "cell_type": "markdown",
   "metadata": {},
   "source": [
    "1. A distribuição de idade para os tipos de ocorrência \"CARDIOLOGICA\" e \"RESPIRATORIA\" são semelhantes. \n",
    "\n",
    "A ideia dessa hipótese é atestar que,"
   ]
  },
  {
   "cell_type": "markdown",
   "metadata": {},
   "source": [
    "3. Ocorrências que foram determinadas como \"TROTE\" são mais prováveis de serem atribuídas a homens.\n",
    "\n",
    "Com esse teste de hipótese, gostaríamos de testar a teoria de que homens cometem mais trotes. Como os indivíduos descritos pelo dataset não são pareados, utilizaremos a técnica de teste \"Mann-Whitney\".\n",
    "\n",
    "Hipótese Nula a ser testada: Não há diferença significativa entre os números de trotes, separados por municípios, praticados por aqueles que identificaram-se como do sexo masculino e daqueles que identificaram-se como do sexo feminino."
   ]
  },
  {
   "cell_type": "code",
   "execution_count": 30,
   "metadata": {},
   "outputs": [
    {
     "data": {
      "text/html": [
       "<div>\n",
       "<style scoped>\n",
       "    .dataframe tbody tr th:only-of-type {\n",
       "        vertical-align: middle;\n",
       "    }\n",
       "\n",
       "    .dataframe tbody tr th {\n",
       "        vertical-align: top;\n",
       "    }\n",
       "\n",
       "    .dataframe thead th {\n",
       "        text-align: right;\n",
       "    }\n",
       "</style>\n",
       "<table border=\"1\" class=\"dataframe\">\n",
       "  <thead>\n",
       "    <tr style=\"text-align: right;\">\n",
       "      <th></th>\n",
       "      <th>municipio</th>\n",
       "      <th>sexo</th>\n",
       "      <th>count</th>\n",
       "    </tr>\n",
       "  </thead>\n",
       "  <tbody>\n",
       "    <tr>\n",
       "      <th>0</th>\n",
       "      <td>ABREU E LIMA</td>\n",
       "      <td>FEMININO</td>\n",
       "      <td>1</td>\n",
       "    </tr>\n",
       "    <tr>\n",
       "      <th>1</th>\n",
       "      <td>ABREU E LIMA</td>\n",
       "      <td>MASCULINO</td>\n",
       "      <td>0</td>\n",
       "    </tr>\n",
       "    <tr>\n",
       "      <th>2</th>\n",
       "      <td>AGUA PRETA</td>\n",
       "      <td>FEMININO</td>\n",
       "      <td>0</td>\n",
       "    </tr>\n",
       "    <tr>\n",
       "      <th>3</th>\n",
       "      <td>AGUA PRETA</td>\n",
       "      <td>MASCULINO</td>\n",
       "      <td>1</td>\n",
       "    </tr>\n",
       "    <tr>\n",
       "      <th>4</th>\n",
       "      <td>ALIANCA</td>\n",
       "      <td>FEMININO</td>\n",
       "      <td>1</td>\n",
       "    </tr>\n",
       "    <tr>\n",
       "      <th>...</th>\n",
       "      <td>...</td>\n",
       "      <td>...</td>\n",
       "      <td>...</td>\n",
       "    </tr>\n",
       "    <tr>\n",
       "      <th>139</th>\n",
       "      <td>VICENCIA</td>\n",
       "      <td>MASCULINO</td>\n",
       "      <td>0</td>\n",
       "    </tr>\n",
       "    <tr>\n",
       "      <th>140</th>\n",
       "      <td>VITORIA DE SANTO ANTAO</td>\n",
       "      <td>FEMININO</td>\n",
       "      <td>1</td>\n",
       "    </tr>\n",
       "    <tr>\n",
       "      <th>141</th>\n",
       "      <td>VITORIA DE SANTO ANTAO</td>\n",
       "      <td>MASCULINO</td>\n",
       "      <td>5</td>\n",
       "    </tr>\n",
       "    <tr>\n",
       "      <th>142</th>\n",
       "      <td>XEXEU</td>\n",
       "      <td>FEMININO</td>\n",
       "      <td>0</td>\n",
       "    </tr>\n",
       "    <tr>\n",
       "      <th>143</th>\n",
       "      <td>XEXEU</td>\n",
       "      <td>MASCULINO</td>\n",
       "      <td>0</td>\n",
       "    </tr>\n",
       "  </tbody>\n",
       "</table>\n",
       "<p>144 rows × 3 columns</p>\n",
       "</div>"
      ],
      "text/plain": [
       "                  municipio       sexo  count\n",
       "0              ABREU E LIMA   FEMININO      1\n",
       "1              ABREU E LIMA  MASCULINO      0\n",
       "2                AGUA PRETA   FEMININO      0\n",
       "3                AGUA PRETA  MASCULINO      1\n",
       "4                   ALIANCA   FEMININO      1\n",
       "..                      ...        ...    ...\n",
       "139                VICENCIA  MASCULINO      0\n",
       "140  VITORIA DE SANTO ANTAO   FEMININO      1\n",
       "141  VITORIA DE SANTO ANTAO  MASCULINO      5\n",
       "142                   XEXEU   FEMININO      0\n",
       "143                   XEXEU  MASCULINO      0\n",
       "\n",
       "[144 rows x 3 columns]"
      ]
     },
     "execution_count": 30,
     "metadata": {},
     "output_type": "execute_result"
    }
   ],
   "source": [
    "trotes_df = raw_df[raw_df['motivo_desfecho'] == 'TROTE']\n",
    "trotes_table = trotes_df.groupby(['municipio', 'sexo'])['data'].agg(['count']).reset_index()\n",
    "trotes_table"
   ]
  },
  {
   "cell_type": "code",
   "execution_count": 35,
   "metadata": {},
   "outputs": [
    {
     "data": {
      "text/plain": [
       "True"
      ]
     },
     "execution_count": 35,
     "metadata": {},
     "output_type": "execute_result"
    }
   ],
   "source": [
    "trotes_femininos_por_municipio = trotes_table[trotes_table['sexo'] == 'FEMININO']\n",
    "trotes_masculinos_por_municipio = trotes_table[trotes_table['sexo'] == 'MASCULINO']\n",
    "\n",
    "# Taking the list of frequencies\n",
    "trotes_femininos_por_municipio = trotes_femininos_por_municipio['count'].to_list()\n",
    "trotes_masculinos_por_municipio = trotes_masculinos_por_municipio['count'].to_list()\n",
    "\n",
    "len(trotes_femininos_por_municipio) == len(trotes_masculinos_por_municipio)"
   ]
  },
  {
   "cell_type": "code",
   "execution_count": 36,
   "metadata": {},
   "outputs": [
    {
     "name": "stdout",
     "output_type": "stream",
     "text": [
      "Statistics=2546.00, p=0.82\n",
      "Do not Reject Null Hypothesis (No significant difference between two samples)\n"
     ]
    }
   ],
   "source": [
    "\n",
    "from scipy.stats import mannwhitneyu\n",
    "\n",
    "stat, p_value = mannwhitneyu(trotes_femininos_por_municipio, trotes_masculinos_por_municipio)\n",
    "print('Statistics=%.2f, p=%.2f' % (stat, p_value))\n",
    "\n",
    "# Level of significance\n",
    "alpha = 0.05\n",
    "# conclusion\n",
    "if p_value < alpha:\n",
    "    print('Reject Null Hypothesis (Significant difference between two samples)')\n",
    "else:\n",
    "    print('Do not Reject Null Hypothesis (No significant difference between two samples)')"
   ]
  },
  {
   "cell_type": "markdown",
   "metadata": {},
   "source": [
    "Como não podemos rejeitar a hipótese nula, podemos afirmar que desprovamos nossa hipótese:\n",
    "\n",
    "A frequência de trotes praticados por homens e mulheres, agrupados por municípios, é, na verdade, bastante semelhante."
   ]
  }
 ],
 "metadata": {
  "kernelspec": {
   "display_name": "Python 3.10.4 64-bit",
   "language": "python",
   "name": "python3"
  },
  "language_info": {
   "codemirror_mode": {
    "name": "ipython",
    "version": 3
   },
   "file_extension": ".py",
   "mimetype": "text/x-python",
   "name": "python",
   "nbconvert_exporter": "python",
   "pygments_lexer": "ipython3",
   "version": "3.10.4"
  },
  "orig_nbformat": 4,
  "vscode": {
   "interpreter": {
    "hash": "916dbcbb3f70747c44a77c7bcd40155683ae19c65e1c03b4aa3499c5328201f1"
   }
  }
 },
 "nbformat": 4,
 "nbformat_minor": 2
}
