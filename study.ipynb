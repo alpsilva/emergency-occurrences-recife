{
 "cells": [
  {
   "cell_type": "markdown",
   "metadata": {},
   "source": [
    "Necessary imports"
   ]
  },
  {
   "cell_type": "code",
   "execution_count": 71,
   "metadata": {},
   "outputs": [
    {
     "name": "stdout",
     "output_type": "stream",
     "text": [
      "Requirement already satisfied: pandas in c:\\python39\\lib\\site-packages (1.3.3)Note: you may need to restart the kernel to use updated packages.\n",
      "\n",
      "Requirement already satisfied: pytz>=2017.3 in c:\\python39\\lib\\site-packages (from pandas) (2021.3)\n",
      "Requirement already satisfied: python-dateutil>=2.7.3 in c:\\python39\\lib\\site-packages (from pandas) (2.8.2)\n",
      "Requirement already satisfied: numpy>=1.17.3 in c:\\python39\\lib\\site-packages (from pandas) (1.21.3)\n",
      "Requirement already satisfied: six>=1.5 in c:\\python39\\lib\\site-packages (from python-dateutil>=2.7.3->pandas) (1.16.0)\n"
     ]
    },
    {
     "name": "stderr",
     "output_type": "stream",
     "text": [
      "WARNING: Ignoring invalid distribution -ip (c:\\python39\\lib\\site-packages)\n",
      "WARNING: Ignoring invalid distribution -ip (c:\\python39\\lib\\site-packages)\n",
      "WARNING: Ignoring invalid distribution -ip (c:\\python39\\lib\\site-packages)\n",
      "WARNING: Ignoring invalid distribution -ip (c:\\python39\\lib\\site-packages)\n",
      "WARNING: Ignoring invalid distribution -ip (c:\\python39\\lib\\site-packages)\n",
      "WARNING: Ignoring invalid distribution -ip (c:\\python39\\lib\\site-packages)\n",
      "WARNING: You are using pip version 21.3.1; however, version 22.2.2 is available.\n",
      "You should consider upgrading via the 'c:\\Python39\\python.exe -m pip install --upgrade pip' command.\n"
     ]
    },
    {
     "name": "stdout",
     "output_type": "stream",
     "text": [
      "Requirement already satisfied: plotly in c:\\python39\\lib\\site-packages (5.10.0)\n",
      "Requirement already satisfied: tenacity>=6.2.0 in c:\\python39\\lib\\site-packages (from plotly) (8.0.1)\n",
      "Note: you may need to restart the kernel to use updated packages.\n"
     ]
    },
    {
     "name": "stderr",
     "output_type": "stream",
     "text": [
      "WARNING: Ignoring invalid distribution -ip (c:\\python39\\lib\\site-packages)\n",
      "WARNING: Ignoring invalid distribution -ip (c:\\python39\\lib\\site-packages)\n",
      "WARNING: Ignoring invalid distribution -ip (c:\\python39\\lib\\site-packages)\n",
      "WARNING: Ignoring invalid distribution -ip (c:\\python39\\lib\\site-packages)\n",
      "WARNING: Ignoring invalid distribution -ip (c:\\python39\\lib\\site-packages)\n",
      "WARNING: Ignoring invalid distribution -ip (c:\\python39\\lib\\site-packages)\n",
      "WARNING: You are using pip version 21.3.1; however, version 22.2.2 is available.\n",
      "You should consider upgrading via the 'c:\\Python39\\python.exe -m pip install --upgrade pip' command.\n"
     ]
    },
    {
     "name": "stdout",
     "output_type": "stream",
     "text": [
      "Requirement already satisfied: matplotlib in c:\\python39\\lib\\site-packages (3.5.1)\n",
      "Requirement already satisfied: python-dateutil>=2.7 in c:\\python39\\lib\\site-packages (from matplotlib) (2.8.2)\n",
      "Requirement already satisfied: kiwisolver>=1.0.1 in c:\\python39\\lib\\site-packages (from matplotlib) (1.3.2)\n",
      "Requirement already satisfied: numpy>=1.17 in c:\\python39\\lib\\site-packages (from matplotlib) (1.21.3)\n",
      "Requirement already satisfied: pyparsing>=2.2.1 in c:\\python39\\lib\\site-packages (from matplotlib) (2.4.7)\n",
      "Requirement already satisfied: packaging>=20.0 in c:\\python39\\lib\\site-packages (from matplotlib) (21.0)\n",
      "Requirement already satisfied: pillow>=6.2.0 in c:\\python39\\lib\\site-packages (from matplotlib) (9.0.0)\n",
      "Requirement already satisfied: fonttools>=4.22.0 in c:\\python39\\lib\\site-packages (from matplotlib) (4.28.5)\n",
      "Requirement already satisfied: cycler>=0.10 in c:\\python39\\lib\\site-packages (from matplotlib) (0.11.0)\n",
      "Requirement already satisfied: six>=1.5 in c:\\python39\\lib\\site-packages (from python-dateutil>=2.7->matplotlib) (1.16.0)\n",
      "Note: you may need to restart the kernel to use updated packages.\n"
     ]
    },
    {
     "name": "stderr",
     "output_type": "stream",
     "text": [
      "WARNING: Ignoring invalid distribution -ip (c:\\python39\\lib\\site-packages)\n",
      "WARNING: Ignoring invalid distribution -ip (c:\\python39\\lib\\site-packages)\n",
      "WARNING: Ignoring invalid distribution -ip (c:\\python39\\lib\\site-packages)\n",
      "WARNING: Ignoring invalid distribution -ip (c:\\python39\\lib\\site-packages)\n",
      "WARNING: Ignoring invalid distribution -ip (c:\\python39\\lib\\site-packages)\n",
      "WARNING: Ignoring invalid distribution -ip (c:\\python39\\lib\\site-packages)\n",
      "WARNING: You are using pip version 21.3.1; however, version 22.2.2 is available.\n",
      "You should consider upgrading via the 'c:\\Python39\\python.exe -m pip install --upgrade pip' command.\n"
     ]
    },
    {
     "name": "stdout",
     "output_type": "stream",
     "text": [
      "Requirement already satisfied: scipy in c:\\python39\\lib\\site-packages (1.8.0)\n",
      "Requirement already satisfied: numpy<1.25.0,>=1.17.3 in c:\\python39\\lib\\site-packages (from scipy) (1.21.3)\n",
      "Note: you may need to restart the kernel to use updated packages.\n"
     ]
    },
    {
     "name": "stderr",
     "output_type": "stream",
     "text": [
      "WARNING: Ignoring invalid distribution -ip (c:\\python39\\lib\\site-packages)\n",
      "WARNING: Ignoring invalid distribution -ip (c:\\python39\\lib\\site-packages)\n",
      "WARNING: Ignoring invalid distribution -ip (c:\\python39\\lib\\site-packages)\n",
      "WARNING: Ignoring invalid distribution -ip (c:\\python39\\lib\\site-packages)\n",
      "WARNING: Ignoring invalid distribution -ip (c:\\python39\\lib\\site-packages)\n",
      "WARNING: Ignoring invalid distribution -ip (c:\\python39\\lib\\site-packages)\n",
      "WARNING: You are using pip version 21.3.1; however, version 22.2.2 is available.\n",
      "You should consider upgrading via the 'c:\\Python39\\python.exe -m pip install --upgrade pip' command.\n"
     ]
    }
   ],
   "source": [
    "%pip install pandas\n",
    "%pip install plotly\n",
    "%pip install matplotlib\n",
    "%pip install scipy\n",
    "\n",
    "from scipy import stats\n",
    "import pandas as pd\n",
    "import plotly.express as px\n"
   ]
  },
  {
   "cell_type": "markdown",
   "metadata": {},
   "source": [
    "# Carregamento de dados\n",
    "\n",
    "A partir do site que pegamos o arquivo (http://dados.recife.pe.gov.br/pt_BR/dataset/servico-de-atendimento-movel-de-urgencia-samu-2022/resource/7c005351-2d14-46cf-b2f0-6622a5553b30), os tipos dos dados são:\n",
    "\n",
    "data: timestamp\n",
    "\n",
    "hora_minuto: text municipio: text\n",
    "\n",
    "bairro: text\n",
    "\n",
    "endereco: text\n",
    "\n",
    "origem_chamado: text\n",
    "\n",
    "tipo: text\n",
    "\n",
    "subtipo: text\n",
    "\n",
    "sexo: text\n",
    "\n",
    "idade: numeric\n",
    "\n",
    "motivo_finalizacao: text\n",
    "\n",
    "motivo_desfecho: text"
   ]
  },
  {
   "cell_type": "code",
   "execution_count": 72,
   "metadata": {},
   "outputs": [
    {
     "data": {
      "text/html": [
       "<div>\n",
       "<style scoped>\n",
       "    .dataframe tbody tr th:only-of-type {\n",
       "        vertical-align: middle;\n",
       "    }\n",
       "\n",
       "    .dataframe tbody tr th {\n",
       "        vertical-align: top;\n",
       "    }\n",
       "\n",
       "    .dataframe thead th {\n",
       "        text-align: right;\n",
       "    }\n",
       "</style>\n",
       "<table border=\"1\" class=\"dataframe\">\n",
       "  <thead>\n",
       "    <tr style=\"text-align: right;\">\n",
       "      <th></th>\n",
       "      <th>data</th>\n",
       "      <th>hora_minuto</th>\n",
       "      <th>municipio</th>\n",
       "      <th>bairro</th>\n",
       "      <th>endereco</th>\n",
       "      <th>origem_chamado</th>\n",
       "      <th>tipo</th>\n",
       "      <th>subtipo</th>\n",
       "      <th>sexo</th>\n",
       "      <th>idade</th>\n",
       "      <th>motivo_finalizacao</th>\n",
       "      <th>motivo_desfecho</th>\n",
       "    </tr>\n",
       "  </thead>\n",
       "  <tbody>\n",
       "    <tr>\n",
       "      <th>0</th>\n",
       "      <td>2022-01-01</td>\n",
       "      <td>00:02:19</td>\n",
       "      <td>RECIFE</td>\n",
       "      <td>JARDIM SAO PAULO</td>\n",
       "      <td>R LEANDRO BARRETO</td>\n",
       "      <td>RESIDENCIAL</td>\n",
       "      <td>RESPIRATORIA</td>\n",
       "      <td>CASO SUSPEITO COVID-19</td>\n",
       "      <td>FEMININO</td>\n",
       "      <td>81.0</td>\n",
       "      <td>NaN</td>\n",
       "      <td>PACIENTE RECUSA SER REMOVIDO</td>\n",
       "    </tr>\n",
       "    <tr>\n",
       "      <th>1</th>\n",
       "      <td>2022-01-01</td>\n",
       "      <td>00:03:00</td>\n",
       "      <td>RECIFE</td>\n",
       "      <td>MADALENA</td>\n",
       "      <td>R ALTINHO</td>\n",
       "      <td>RESIDENCIAL</td>\n",
       "      <td>CAUSAS EXTERNAS</td>\n",
       "      <td>QUEDA DA PROPRIA ALTURA</td>\n",
       "      <td>FEMININO</td>\n",
       "      <td>81.0</td>\n",
       "      <td>NaN</td>\n",
       "      <td>DESISTÊNCIA DA SOLICITAÇÃO</td>\n",
       "    </tr>\n",
       "    <tr>\n",
       "      <th>2</th>\n",
       "      <td>2022-01-01</td>\n",
       "      <td>00:09:38</td>\n",
       "      <td>MACAPARANA</td>\n",
       "      <td>CENTRO</td>\n",
       "      <td>R POSSIDONIO JULIAO DA SILVA</td>\n",
       "      <td>VIA PÚBLICA</td>\n",
       "      <td>CAUSAS EXTERNAS</td>\n",
       "      <td>OUTROS</td>\n",
       "      <td>MASCULINO</td>\n",
       "      <td>0.0</td>\n",
       "      <td>REGULAÇÃO POR TELEFONE</td>\n",
       "      <td>SEM DESFECHO</td>\n",
       "    </tr>\n",
       "    <tr>\n",
       "      <th>3</th>\n",
       "      <td>2022-01-01</td>\n",
       "      <td>00:10:02</td>\n",
       "      <td>VITORIA DE SANTO ANTAO</td>\n",
       "      <td>CENTRO</td>\n",
       "      <td>RUA JOSE COSTA N 93 BAIRRO DA</td>\n",
       "      <td>RESIDENCIAL</td>\n",
       "      <td>GERAIS/OUTROS</td>\n",
       "      <td>OUTROS</td>\n",
       "      <td>FEMININO</td>\n",
       "      <td>NaN</td>\n",
       "      <td>DESISTÊNCIA DA SOLICITAÇÃO</td>\n",
       "      <td>SEM DESFECHO</td>\n",
       "    </tr>\n",
       "    <tr>\n",
       "      <th>4</th>\n",
       "      <td>2022-01-01</td>\n",
       "      <td>00:12:16</td>\n",
       "      <td>PALMARES</td>\n",
       "      <td>PALMARES CENTRO</td>\n",
       "      <td>RUA DOUTOR COSTA MAIA</td>\n",
       "      <td>RESIDENCIAL</td>\n",
       "      <td>GERAIS/OUTROS</td>\n",
       "      <td>OUTROS</td>\n",
       "      <td>MASCULINO</td>\n",
       "      <td>84.0</td>\n",
       "      <td>NaN</td>\n",
       "      <td>OCORRÊNCIA CONCLUÍDA COM ÊXITO</td>\n",
       "    </tr>\n",
       "  </tbody>\n",
       "</table>\n",
       "</div>"
      ],
      "text/plain": [
       "        data hora_minuto               municipio            bairro  \\\n",
       "0 2022-01-01    00:02:19                  RECIFE  JARDIM SAO PAULO   \n",
       "1 2022-01-01    00:03:00                  RECIFE          MADALENA   \n",
       "2 2022-01-01    00:09:38              MACAPARANA            CENTRO   \n",
       "3 2022-01-01    00:10:02  VITORIA DE SANTO ANTAO            CENTRO   \n",
       "4 2022-01-01    00:12:16                PALMARES   PALMARES CENTRO   \n",
       "\n",
       "                        endereco origem_chamado             tipo  \\\n",
       "0              R LEANDRO BARRETO    RESIDENCIAL     RESPIRATORIA   \n",
       "1                      R ALTINHO    RESIDENCIAL  CAUSAS EXTERNAS   \n",
       "2   R POSSIDONIO JULIAO DA SILVA    VIA PÚBLICA  CAUSAS EXTERNAS   \n",
       "3  RUA JOSE COSTA N 93 BAIRRO DA    RESIDENCIAL    GERAIS/OUTROS   \n",
       "4          RUA DOUTOR COSTA MAIA    RESIDENCIAL    GERAIS/OUTROS   \n",
       "\n",
       "                   subtipo       sexo  idade          motivo_finalizacao  \\\n",
       "0   CASO SUSPEITO COVID-19   FEMININO   81.0                         NaN   \n",
       "1  QUEDA DA PROPRIA ALTURA   FEMININO   81.0                         NaN   \n",
       "2                   OUTROS  MASCULINO    0.0      REGULAÇÃO POR TELEFONE   \n",
       "3                   OUTROS   FEMININO    NaN  DESISTÊNCIA DA SOLICITAÇÃO   \n",
       "4                   OUTROS  MASCULINO   84.0                         NaN   \n",
       "\n",
       "                  motivo_desfecho  \n",
       "0    PACIENTE RECUSA SER REMOVIDO  \n",
       "1      DESISTÊNCIA DA SOLICITAÇÃO  \n",
       "2                    SEM DESFECHO  \n",
       "3                    SEM DESFECHO  \n",
       "4  OCORRÊNCIA CONCLUÍDA COM ÊXITO  "
      ]
     },
     "execution_count": 72,
     "metadata": {},
     "output_type": "execute_result"
    }
   ],
   "source": [
    "dtypes = {\n",
    "    \"hora_minuto\":  str,\n",
    "    \"municipio\": \"category\",\n",
    "    \"bairro\": \"category\",\n",
    "    \"endereco\": \"category\",\n",
    "    \"origem_chamado\": \"category\",\n",
    "    \"tipo\": \"category\",\n",
    "    \"subtipo\": \"category\",\n",
    "    \"sexo\": \"category\",\n",
    "    \"idade\": float,\n",
    "    \"motivo_finalizacao\": \"category\",\n",
    "    \"motivo_desfecho\": \"category\",\n",
    "}\n",
    "\n",
    "columns_to_datetime = [\"data\"]\n",
    "\n",
    "raw_df = pd.read_csv(\"./datasets/ocorrencias2022.csv\", sep=';', dtype=dtypes, parse_dates=columns_to_datetime)\n",
    "raw_df.head()"
   ]
  },
  {
   "cell_type": "markdown",
   "metadata": {},
   "source": [
    "# Considerações iniciais sobre o dataset\n",
    "\n",
    "O dataset descreve ligações para o Serviço de Atendimento Móvel de Urgência (SAMU), realizados no ano de 2022.\n",
    "Possui informações que identificam:\n",
    "\n",
    "O local e hora onde uma ocorrência foi registrada;\n",
    "\n",
    "Sexo e idade que identificam o indivíduo responsável pelo chamado;\n",
    "\n",
    "Municipio, Bairro e Endereço do chamado;\n",
    "\n",
    "Tipo e Subtipo do chamado;\n",
    "\n",
    "E por fim, motivos da finalização e desfecho do chamado."
   ]
  },
  {
   "cell_type": "code",
   "execution_count": 73,
   "metadata": {},
   "outputs": [
    {
     "data": {
      "text/html": [
       "<div>\n",
       "<style scoped>\n",
       "    .dataframe tbody tr th:only-of-type {\n",
       "        vertical-align: middle;\n",
       "    }\n",
       "\n",
       "    .dataframe tbody tr th {\n",
       "        vertical-align: top;\n",
       "    }\n",
       "\n",
       "    .dataframe thead th {\n",
       "        text-align: right;\n",
       "    }\n",
       "</style>\n",
       "<table border=\"1\" class=\"dataframe\">\n",
       "  <thead>\n",
       "    <tr style=\"text-align: right;\">\n",
       "      <th></th>\n",
       "      <th>idade</th>\n",
       "    </tr>\n",
       "  </thead>\n",
       "  <tbody>\n",
       "    <tr>\n",
       "      <th>count</th>\n",
       "      <td>93764.000000</td>\n",
       "    </tr>\n",
       "    <tr>\n",
       "      <th>mean</th>\n",
       "      <td>47.013886</td>\n",
       "    </tr>\n",
       "    <tr>\n",
       "      <th>std</th>\n",
       "      <td>25.460475</td>\n",
       "    </tr>\n",
       "    <tr>\n",
       "      <th>min</th>\n",
       "      <td>0.000000</td>\n",
       "    </tr>\n",
       "    <tr>\n",
       "      <th>25%</th>\n",
       "      <td>28.000000</td>\n",
       "    </tr>\n",
       "    <tr>\n",
       "      <th>50%</th>\n",
       "      <td>47.000000</td>\n",
       "    </tr>\n",
       "    <tr>\n",
       "      <th>75%</th>\n",
       "      <td>67.000000</td>\n",
       "    </tr>\n",
       "    <tr>\n",
       "      <th>max</th>\n",
       "      <td>747.000000</td>\n",
       "    </tr>\n",
       "  </tbody>\n",
       "</table>\n",
       "</div>"
      ],
      "text/plain": [
       "              idade\n",
       "count  93764.000000\n",
       "mean      47.013886\n",
       "std       25.460475\n",
       "min        0.000000\n",
       "25%       28.000000\n",
       "50%       47.000000\n",
       "75%       67.000000\n",
       "max      747.000000"
      ]
     },
     "execution_count": 73,
     "metadata": {},
     "output_type": "execute_result"
    }
   ],
   "source": [
    "raw_df.describe()"
   ]
  },
  {
   "cell_type": "code",
   "execution_count": 74,
   "metadata": {},
   "outputs": [
    {
     "data": {
      "text/plain": [
       "data                  datetime64[ns]\n",
       "hora_minuto                   object\n",
       "municipio                   category\n",
       "bairro                      category\n",
       "endereco                    category\n",
       "origem_chamado              category\n",
       "tipo                        category\n",
       "subtipo                     category\n",
       "sexo                        category\n",
       "idade                        float64\n",
       "motivo_finalizacao          category\n",
       "motivo_desfecho             category\n",
       "dtype: object"
      ]
     },
     "execution_count": 74,
     "metadata": {},
     "output_type": "execute_result"
    }
   ],
   "source": [
    "raw_df.dtypes"
   ]
  },
  {
   "cell_type": "code",
   "execution_count": 75,
   "metadata": {},
   "outputs": [
    {
     "data": {
      "text/plain": [
       "data                      0\n",
       "hora_minuto               0\n",
       "municipio                 3\n",
       "bairro                    4\n",
       "endereco               1914\n",
       "origem_chamado            0\n",
       "tipo                      0\n",
       "subtipo                  17\n",
       "sexo                   1399\n",
       "idade                   926\n",
       "motivo_finalizacao    60456\n",
       "motivo_desfecho           0\n",
       "dtype: int64"
      ]
     },
     "execution_count": 75,
     "metadata": {},
     "output_type": "execute_result"
    }
   ],
   "source": [
    "raw_df.isna().sum()"
   ]
  },
  {
   "cell_type": "markdown",
   "metadata": {},
   "source": [
    "# Tratando dados vazios"
   ]
  },
  {
   "cell_type": "markdown",
   "metadata": {},
   "source": [
    "Já que mais da metade do dataset está com a coluna \"motivo_finalizacao\" vazia, será impraticável utilizar essa coluna na nossa análise, portanto removeremos ela.\n",
    "\n",
    "para o restante das colunas, nós removeremos as instâncias que contém alguma coluna vazia, com exceção da coluna de endereço, já que ela não vai ser tão útil para a análise que queremos.\n",
    "\n",
    "A remoção dessas instâncias não vão fazer muita diferença já que a quantidade das linhas removidas são ínfimas, (menos de 5%), em comparação à quantidade total de dados do dataset."
   ]
  },
  {
   "cell_type": "code",
   "execution_count": 76,
   "metadata": {},
   "outputs": [
    {
     "data": {
      "text/plain": [
       "data                  0\n",
       "hora_minuto           0\n",
       "municipio             0\n",
       "bairro                0\n",
       "endereco           1838\n",
       "origem_chamado        0\n",
       "tipo                  0\n",
       "subtipo               0\n",
       "sexo                  0\n",
       "idade                 0\n",
       "motivo_desfecho       0\n",
       "dtype: int64"
      ]
     },
     "execution_count": 76,
     "metadata": {},
     "output_type": "execute_result"
    }
   ],
   "source": [
    "raw_df = raw_df.drop(\"motivo_finalizacao\", axis=1)\n",
    "raw_df = raw_df.dropna(subset=[\"municipio\", \"bairro\", \"subtipo\", \"sexo\", \"idade\"])\n",
    "raw_df.isna().sum()"
   ]
  },
  {
   "cell_type": "code",
   "execution_count": 77,
   "metadata": {},
   "outputs": [
    {
     "data": {
      "text/plain": [
       "count    92459.000000\n",
       "mean        47.110211\n",
       "std         25.315927\n",
       "min          0.000000\n",
       "25%         28.000000\n",
       "50%         47.000000\n",
       "75%         67.000000\n",
       "max        747.000000\n",
       "Name: idade, dtype: float64"
      ]
     },
     "execution_count": 77,
     "metadata": {},
     "output_type": "execute_result"
    }
   ],
   "source": [
    "raw_df[\"idade\"].describe()"
   ]
  },
  {
   "cell_type": "markdown",
   "metadata": {},
   "source": [
    "ter a idade máxima de 747 é impossível, uma passada no google diz que há pessoas com certificados de nascimento entre 115 anos até 121 anos, portanto nós escolhemos definir uma idade máxima de 120 anos para deixar mais fácil de discretizar a idade em uma série de 6 categorias."
   ]
  },
  {
   "cell_type": "code",
   "execution_count": 78,
   "metadata": {},
   "outputs": [
    {
     "data": {
      "text/plain": [
       "count    92459.000000\n",
       "mean        47.088656\n",
       "std         25.079854\n",
       "min          0.000000\n",
       "25%         28.000000\n",
       "50%         47.000000\n",
       "75%         67.000000\n",
       "max        120.000000\n",
       "Name: idade, dtype: float64"
      ]
     },
     "execution_count": 78,
     "metadata": {},
     "output_type": "execute_result"
    }
   ],
   "source": [
    "def older_than_120(age: int):\n",
    "  if age >= 120:\n",
    "    return 120\n",
    "  return age\n",
    "\n",
    "raw_df[\"idade\"] = raw_df[\"idade\"].apply(lambda x : older_than_120(x))\n",
    "raw_df[\"idade\"].describe()"
   ]
  },
  {
   "cell_type": "code",
   "execution_count": 79,
   "metadata": {},
   "outputs": [
    {
     "data": {
      "text/plain": [
       "0        (80.0, 100.0]\n",
       "1        (80.0, 100.0]\n",
       "2        (-0.12, 20.0]\n",
       "4        (80.0, 100.0]\n",
       "5        (-0.12, 20.0]\n",
       "             ...      \n",
       "94685     (40.0, 60.0]\n",
       "94686     (60.0, 80.0]\n",
       "94687    (-0.12, 20.0]\n",
       "94688     (40.0, 60.0]\n",
       "94689    (80.0, 100.0]\n",
       "Name: faixa_etaria, Length: 92459, dtype: category\n",
       "Categories (6, interval[float64, right]): [(-0.12, 20.0] < (20.0, 40.0] < (40.0, 60.0] < (60.0, 80.0] < (80.0, 100.0] < (100.0, 120.0]]"
      ]
     },
     "execution_count": 79,
     "metadata": {},
     "output_type": "execute_result"
    }
   ],
   "source": [
    "raw_df[\"faixa_etaria\"] = pd.cut(raw_df[\"idade\"], 6)\n",
    "raw_df[\"faixa_etaria\"]"
   ]
  },
  {
   "cell_type": "code",
   "execution_count": 80,
   "metadata": {},
   "outputs": [
    {
     "data": {
      "text/plain": [
       "<AxesSubplot:>"
      ]
     },
     "execution_count": 80,
     "metadata": {},
     "output_type": "execute_result"
    },
    {
     "data": {
      "image/png": "[encoded data removed]",
      "text/plain": [
       "<Figure size 432x288 with 1 Axes>"
      ]
     },
     "metadata": {
      "needs_background": "light"
     },
     "output_type": "display_data"
    }
   ],
   "source": [
    "idade_ascending = raw_df.groupby(\"municipio\")[\"idade\"].mean().sort_values(ascending=True)\n",
    "idade_ascending.plot.box()"
   ]
  },
  {
   "cell_type": "markdown",
   "metadata": {},
   "source": [
    "Esse box plot indica que o dataset pode conter alguns outliers em questão da idade, mas nós decidimos não tentar tratar pessoas com idades muito diferentes da média. O motivo disso é que não há como delimitar um limite mínimo ou máximo de idade, para que a pessoa seja atendida pelo SAMU, um bebê de 0 anos pode ser atendido e uma pessoa de 120 anos pode ser atendida."
   ]
  },
  {
   "cell_type": "markdown",
   "metadata": {},
   "source": [
    "# Testes de hipótese\n",
    "\n",
    "Para começar os testes nós temos primeiro que determinar se "
   ]
  },
  {
   "cell_type": "markdown",
   "metadata": {},
   "source": [
    "1. Ocorrências que foram determinadas como \"TROTE\" são mais prováveis de serem atribuídas a homens.\n",
    "2. Dentre os municípios com maiores frequências de ocorrências, as que resultam em óbitos possuem frequência por tipo de ocorrência similar independente do município.\n",
    "3. A distribuição de Faixa Etária para os tipos de ocorrência \"CARDIOLOGICA\" e \"RESPIRATORIA\" são semelhantes. \n",
    "4. As frequências de tipos de ocorrência são semelhantes para cada um dos 5 Municipios com maior número de ocorrências em Recife.\n",
    "\n",
    "Como o dataset não possui uma distribuição normal, utilizaremos, geralmente, os tipos de dados \"Rank\" e \"Score\"."
   ]
  },
  {
   "cell_type": "markdown",
   "metadata": {},
   "source": [
    "1. Ocorrências que foram determinadas como \"TROTE\" são mais prováveis de serem atribuídas a homens.\n",
    "\n"
   ]
  },
  {
   "cell_type": "code",
   "execution_count": 81,
   "metadata": {},
   "outputs": [
    {
     "data": {
      "text/html": [
       "<div>\n",
       "<style scoped>\n",
       "    .dataframe tbody tr th:only-of-type {\n",
       "        vertical-align: middle;\n",
       "    }\n",
       "\n",
       "    .dataframe tbody tr th {\n",
       "        vertical-align: top;\n",
       "    }\n",
       "\n",
       "    .dataframe thead th {\n",
       "        text-align: right;\n",
       "    }\n",
       "</style>\n",
       "<table border=\"1\" class=\"dataframe\">\n",
       "  <thead>\n",
       "    <tr style=\"text-align: right;\">\n",
       "      <th></th>\n",
       "      <th>municipio</th>\n",
       "      <th>sexo</th>\n",
       "      <th>count</th>\n",
       "    </tr>\n",
       "  </thead>\n",
       "  <tbody>\n",
       "    <tr>\n",
       "      <th>0</th>\n",
       "      <td>ABREU E LIMA</td>\n",
       "      <td>FEMININO</td>\n",
       "      <td>1</td>\n",
       "    </tr>\n",
       "    <tr>\n",
       "      <th>1</th>\n",
       "      <td>ABREU E LIMA</td>\n",
       "      <td>MASCULINO</td>\n",
       "      <td>0</td>\n",
       "    </tr>\n",
       "    <tr>\n",
       "      <th>2</th>\n",
       "      <td>AGUA PRETA</td>\n",
       "      <td>FEMININO</td>\n",
       "      <td>0</td>\n",
       "    </tr>\n",
       "    <tr>\n",
       "      <th>3</th>\n",
       "      <td>AGUA PRETA</td>\n",
       "      <td>MASCULINO</td>\n",
       "      <td>1</td>\n",
       "    </tr>\n",
       "    <tr>\n",
       "      <th>4</th>\n",
       "      <td>ALIANCA</td>\n",
       "      <td>FEMININO</td>\n",
       "      <td>1</td>\n",
       "    </tr>\n",
       "    <tr>\n",
       "      <th>...</th>\n",
       "      <td>...</td>\n",
       "      <td>...</td>\n",
       "      <td>...</td>\n",
       "    </tr>\n",
       "    <tr>\n",
       "      <th>139</th>\n",
       "      <td>VICENCIA</td>\n",
       "      <td>MASCULINO</td>\n",
       "      <td>0</td>\n",
       "    </tr>\n",
       "    <tr>\n",
       "      <th>140</th>\n",
       "      <td>VITORIA DE SANTO ANTAO</td>\n",
       "      <td>FEMININO</td>\n",
       "      <td>1</td>\n",
       "    </tr>\n",
       "    <tr>\n",
       "      <th>141</th>\n",
       "      <td>VITORIA DE SANTO ANTAO</td>\n",
       "      <td>MASCULINO</td>\n",
       "      <td>5</td>\n",
       "    </tr>\n",
       "    <tr>\n",
       "      <th>142</th>\n",
       "      <td>XEXEU</td>\n",
       "      <td>FEMININO</td>\n",
       "      <td>0</td>\n",
       "    </tr>\n",
       "    <tr>\n",
       "      <th>143</th>\n",
       "      <td>XEXEU</td>\n",
       "      <td>MASCULINO</td>\n",
       "      <td>0</td>\n",
       "    </tr>\n",
       "  </tbody>\n",
       "</table>\n",
       "<p>144 rows × 3 columns</p>\n",
       "</div>"
      ],
      "text/plain": [
       "                  municipio       sexo  count\n",
       "0              ABREU E LIMA   FEMININO      1\n",
       "1              ABREU E LIMA  MASCULINO      0\n",
       "2                AGUA PRETA   FEMININO      0\n",
       "3                AGUA PRETA  MASCULINO      1\n",
       "4                   ALIANCA   FEMININO      1\n",
       "..                      ...        ...    ...\n",
       "139                VICENCIA  MASCULINO      0\n",
       "140  VITORIA DE SANTO ANTAO   FEMININO      1\n",
       "141  VITORIA DE SANTO ANTAO  MASCULINO      5\n",
       "142                   XEXEU   FEMININO      0\n",
       "143                   XEXEU  MASCULINO      0\n",
       "\n",
       "[144 rows x 3 columns]"
      ]
     },
     "execution_count": 81,
     "metadata": {},
     "output_type": "execute_result"
    }
   ],
   "source": [
    "trotes_df = raw_df[raw_df['motivo_desfecho'] == 'TROTE']\n",
    "trotes_table = trotes_df.groupby(['municipio', 'sexo'])['data'].agg(['count']).reset_index()\n",
    "trotes_table"
   ]
  },
  {
   "cell_type": "code",
   "execution_count": 82,
   "metadata": {},
   "outputs": [
    {
     "data": {
      "text/plain": [
       "<AxesSubplot:ylabel='Frequency'>"
      ]
     },
     "execution_count": 82,
     "metadata": {},
     "output_type": "execute_result"
    },
    {
     "data": {
      "image/png": "[encoded data removed]",
      "text/plain": [
       "<Figure size 432x288 with 1 Axes>"
      ]
     },
     "metadata": {
      "needs_background": "light"
     },
     "output_type": "display_data"
    }
   ],
   "source": [
    "trotes_table.plot.hist()"
   ]
  },
  {
   "cell_type": "markdown",
   "metadata": {},
   "source": [
    "Com esse teste de hipótese, gostaríamos de testar a teoria de que homens cometem mais trotes. Como os indivíduos descritos pelo dataset não são pareados, e vendo que a distribuição não é uma distribuição normal, utilizaremos a técnica de teste \"Mann-Whitney\".\n",
    "\n",
    "Hipótese Nula a ser testada: Não há diferença significativa entre os números de trotes, separados por municípios, praticados por aqueles que identificaram-se como do sexo masculino e daqueles que identificaram-se como do sexo feminino."
   ]
  },
  {
   "cell_type": "code",
   "execution_count": 83,
   "metadata": {},
   "outputs": [
    {
     "data": {
      "text/plain": [
       "True"
      ]
     },
     "execution_count": 83,
     "metadata": {},
     "output_type": "execute_result"
    }
   ],
   "source": [
    "trotes_femininos_por_municipio = trotes_table[trotes_table['sexo'] == 'FEMININO']\n",
    "trotes_masculinos_por_municipio = trotes_table[trotes_table['sexo'] == 'MASCULINO']\n",
    "\n",
    "# Taking the list of frequencies\n",
    "trotes_femininos_por_municipio = trotes_femininos_por_municipio['count'].to_list()\n",
    "trotes_masculinos_por_municipio = trotes_masculinos_por_municipio['count'].to_list()\n",
    "\n",
    "len(trotes_femininos_por_municipio) == len(trotes_masculinos_por_municipio)"
   ]
  },
  {
   "cell_type": "code",
   "execution_count": 84,
   "metadata": {},
   "outputs": [
    {
     "name": "stdout",
     "output_type": "stream",
     "text": [
      "Statistics=2546.00, p=0.82\n",
      "Do not Reject Null Hypothesis (No significant difference between two samples)\n"
     ]
    }
   ],
   "source": [
    "\n",
    "from scipy.stats import mannwhitneyu\n",
    "\n",
    "stat, p_value = mannwhitneyu(trotes_femininos_por_municipio, trotes_masculinos_por_municipio)\n",
    "print('Statistics=%.2f, p=%.2f' % (stat, p_value))\n",
    "\n",
    "alpha = 0.05\n",
    "if p_value < alpha:\n",
    "    print('Reject Null Hypothesis (Significant difference between two samples)')\n",
    "else:\n",
    "    print('Do not Reject Null Hypothesis (No significant difference between two samples)')"
   ]
  },
  {
   "cell_type": "markdown",
   "metadata": {},
   "source": [
    "Como não podemos rejeitar a hipótese nula, podemos afirmar que desprovamos nossa hipótese:\n",
    "\n",
    "A frequência de trotes praticados por homens e mulheres, agrupados por municípios, é, na verdade, bastante semelhante."
   ]
  },
  {
   "cell_type": "markdown",
   "metadata": {},
   "source": [
    "2. Dentre os municípios com maiores frequências de ocorrências, as que resultam em óbitos possuem frequência por tipo de ocorrência similar independente do município.\n",
    "\n",
    "Hipótese Nula a ser testada: Não há diferença significativa entre a frequência de ocorrências que resultam em mortes, agrupadas por tipo de ocorrência, de cada municipio."
   ]
  },
  {
   "cell_type": "code",
   "execution_count": 85,
   "metadata": {},
   "outputs": [
    {
     "data": {
      "text/plain": [
       "['PACIENTE RECUSA SER REMOVIDO',\n",
       " 'DESISTÊNCIA DA SOLICITAÇÃO',\n",
       " 'SEM DESFECHO',\n",
       " 'OCORRÊNCIA CONCLUÍDA COM ÊXITO',\n",
       " 'REMOVIDO ANTES DO ATENDIMENTO POR PARTICULARES',\n",
       " 'NÃO HÁ PACIENTE NO ENDEREÇO',\n",
       " 'CASA FECHADA / NINGUÉM ATENDE AO CHAMADO',\n",
       " 'REMOVIDO PELOS BOMBEIROS/CIODS',\n",
       " 'ACOMPANHANTE RECUSA REMOÇÃO',\n",
       " 'PACIENTE JÉ ENCONTRADO EM ÓBITO',\n",
       " 'ÓBITO DURANTE O ATENDIMENTO',\n",
       " 'PACIENTE NÃO NECESSITA DE REMOÇÃO',\n",
       " 'TROTE',\n",
       " 'SOLICITAÇÃO DUPLICADA',\n",
       " 'PACIENTE SEM CONDIÇÕES CLÍNICAS DE REMOÇÃO HOSPITALAR']"
      ]
     },
     "execution_count": 85,
     "metadata": {},
     "output_type": "execute_result"
    }
   ],
   "source": [
    "raw_df['motivo_desfecho'].unique().to_list()"
   ]
  },
  {
   "cell_type": "code",
   "execution_count": 86,
   "metadata": {},
   "outputs": [
    {
     "data": {
      "text/plain": [
       "['ABREU E LIMA',\n",
       " 'CABO DE SANTO AGOSTINHO',\n",
       " 'CAMARAGIBE',\n",
       " 'CARPINA',\n",
       " 'ESCADA',\n",
       " 'GOIANA',\n",
       " 'IGARASSU',\n",
       " 'ILHA DE ITAMARACA',\n",
       " 'IPOJUCA',\n",
       " 'JABOATAO DOS GUARARAPES',\n",
       " 'LIMOEIRO',\n",
       " 'MORENO',\n",
       " 'NAZARE DA MATA',\n",
       " 'OLINDA',\n",
       " 'PALMARES',\n",
       " 'PAULISTA',\n",
       " 'POMBOS',\n",
       " 'RECIFE',\n",
       " 'SAO LOURENCO DA MATA',\n",
       " 'SURUBIM',\n",
       " 'TIMBAUBA',\n",
       " 'VITORIA DE SANTO ANTAO']"
      ]
     },
     "execution_count": 86,
     "metadata": {},
     "output_type": "execute_result"
    }
   ],
   "source": [
    "highest_frequencies = raw_df.groupby(['municipio'])['data'].agg(['count']).reset_index()\n",
    "highest_frequencies = highest_frequencies[highest_frequencies['count'] >= 500]\n",
    "\n",
    "highest_frequencies_municipios = highest_frequencies['municipio'].to_list()\n",
    "highest_frequencies_municipios"
   ]
  },
  {
   "cell_type": "code",
   "execution_count": 87,
   "metadata": {},
   "outputs": [],
   "source": [
    "motivo_obito_1 = 'PACIENTE JÉ ENCONTRADO EM ÓBITO'\n",
    "motivo_obito_2 = 'ÓBITO DURANTE O ATENDIMENTO'\n",
    "\n",
    "def check_obito(motivo: str):\n",
    "    if motivo == motivo_obito_1 or motivo == motivo_obito_2:\n",
    "        return True\n",
    "    return False\n",
    "\n",
    "def check_municipio(municipio: str):\n",
    "    if municipio in highest_frequencies_municipios:\n",
    "        return True\n",
    "    return False\n",
    "\n",
    "obitos_df = raw_df[raw_df['motivo_desfecho'].apply(lambda x : check_obito(x))]"
   ]
  },
  {
   "cell_type": "code",
   "execution_count": 88,
   "metadata": {},
   "outputs": [
    {
     "data": {
      "text/html": [
       "<div>\n",
       "<style scoped>\n",
       "    .dataframe tbody tr th:only-of-type {\n",
       "        vertical-align: middle;\n",
       "    }\n",
       "\n",
       "    .dataframe tbody tr th {\n",
       "        vertical-align: top;\n",
       "    }\n",
       "\n",
       "    .dataframe thead th {\n",
       "        text-align: right;\n",
       "    }\n",
       "</style>\n",
       "<table border=\"1\" class=\"dataframe\">\n",
       "  <thead>\n",
       "    <tr style=\"text-align: right;\">\n",
       "      <th></th>\n",
       "      <th>municipio</th>\n",
       "      <th>tipo</th>\n",
       "      <th>count</th>\n",
       "    </tr>\n",
       "  </thead>\n",
       "  <tbody>\n",
       "    <tr>\n",
       "      <th>0</th>\n",
       "      <td>ABREU E LIMA</td>\n",
       "      <td>ASSINTOMATICO</td>\n",
       "      <td>0</td>\n",
       "    </tr>\n",
       "    <tr>\n",
       "      <th>1</th>\n",
       "      <td>ABREU E LIMA</td>\n",
       "      <td>CARDIOLOGICA</td>\n",
       "      <td>10</td>\n",
       "    </tr>\n",
       "    <tr>\n",
       "      <th>2</th>\n",
       "      <td>ABREU E LIMA</td>\n",
       "      <td>CAUSAS EXTERNAS</td>\n",
       "      <td>5</td>\n",
       "    </tr>\n",
       "    <tr>\n",
       "      <th>3</th>\n",
       "      <td>ABREU E LIMA</td>\n",
       "      <td>DROGAS</td>\n",
       "      <td>0</td>\n",
       "    </tr>\n",
       "    <tr>\n",
       "      <th>4</th>\n",
       "      <td>ABREU E LIMA</td>\n",
       "      <td>ENDOCRINOLOGICA</td>\n",
       "      <td>2</td>\n",
       "    </tr>\n",
       "    <tr>\n",
       "      <th>...</th>\n",
       "      <td>...</td>\n",
       "      <td>...</td>\n",
       "      <td>...</td>\n",
       "    </tr>\n",
       "    <tr>\n",
       "      <th>1273</th>\n",
       "      <td>VITORIA DE SANTO ANTAO</td>\n",
       "      <td>OFTALMOLOGICA</td>\n",
       "      <td>0</td>\n",
       "    </tr>\n",
       "    <tr>\n",
       "      <th>1274</th>\n",
       "      <td>VITORIA DE SANTO ANTAO</td>\n",
       "      <td>ONCOLOGICA</td>\n",
       "      <td>0</td>\n",
       "    </tr>\n",
       "    <tr>\n",
       "      <th>1275</th>\n",
       "      <td>VITORIA DE SANTO ANTAO</td>\n",
       "      <td>OTORRINOLARINGOLOGICA</td>\n",
       "      <td>0</td>\n",
       "    </tr>\n",
       "    <tr>\n",
       "      <th>1276</th>\n",
       "      <td>VITORIA DE SANTO ANTAO</td>\n",
       "      <td>PSIQUIATRICA</td>\n",
       "      <td>0</td>\n",
       "    </tr>\n",
       "    <tr>\n",
       "      <th>1277</th>\n",
       "      <td>VITORIA DE SANTO ANTAO</td>\n",
       "      <td>RESPIRATORIA</td>\n",
       "      <td>9</td>\n",
       "    </tr>\n",
       "  </tbody>\n",
       "</table>\n",
       "<p>396 rows × 3 columns</p>\n",
       "</div>"
      ],
      "text/plain": [
       "                   municipio                   tipo  count\n",
       "0               ABREU E LIMA          ASSINTOMATICO      0\n",
       "1               ABREU E LIMA           CARDIOLOGICA     10\n",
       "2               ABREU E LIMA        CAUSAS EXTERNAS      5\n",
       "3               ABREU E LIMA                 DROGAS      0\n",
       "4               ABREU E LIMA        ENDOCRINOLOGICA      2\n",
       "...                      ...                    ...    ...\n",
       "1273  VITORIA DE SANTO ANTAO          OFTALMOLOGICA      0\n",
       "1274  VITORIA DE SANTO ANTAO             ONCOLOGICA      0\n",
       "1275  VITORIA DE SANTO ANTAO  OTORRINOLARINGOLOGICA      0\n",
       "1276  VITORIA DE SANTO ANTAO           PSIQUIATRICA      0\n",
       "1277  VITORIA DE SANTO ANTAO           RESPIRATORIA      9\n",
       "\n",
       "[396 rows x 3 columns]"
      ]
     },
     "execution_count": 88,
     "metadata": {},
     "output_type": "execute_result"
    }
   ],
   "source": [
    "obitos_table = obitos_df.groupby(['municipio', 'tipo'])['data'].agg(['count']).reset_index()\n",
    "obitos_table = obitos_table[obitos_table['municipio'].apply(lambda x : check_municipio(x))]\n",
    "obitos_table"
   ]
  },
  {
   "cell_type": "code",
   "execution_count": 89,
   "metadata": {},
   "outputs": [
    {
     "data": {
      "text/plain": [
       "<AxesSubplot:ylabel='Frequency'>"
      ]
     },
     "execution_count": 89,
     "metadata": {},
     "output_type": "execute_result"
    },
    {
     "data": {
      "image/png": "[encoded data removed]",
      "text/plain": [
       "<Figure size 432x288 with 1 Axes>"
      ]
     },
     "metadata": {
      "needs_background": "light"
     },
     "output_type": "display_data"
    }
   ],
   "source": [
    "obitos_table.plot.hist()"
   ]
  },
  {
   "cell_type": "markdown",
   "metadata": {},
   "source": [
    "claramente a distribuição não é uma normal, como queremos testar vários grupos, n >= 3, usaremos kruskal."
   ]
  },
  {
   "cell_type": "code",
   "execution_count": 90,
   "metadata": {},
   "outputs": [],
   "source": [
    "municipios_frequency = []\n",
    "for municipio in highest_frequencies_municipios:\n",
    "    aux_table = obitos_table[obitos_table['municipio'] == municipio]\n",
    "    municipios_frequency.append(aux_table['count'].to_list())"
   ]
  },
  {
   "cell_type": "code",
   "execution_count": 91,
   "metadata": {},
   "outputs": [
    {
     "data": {
      "text/plain": [
       "[[0, 10, 5, 0, 2, 0, 16, 0, 0, 1, 2, 0, 0, 0, 0, 0, 0, 3],\n",
       " [0, 13, 17, 0, 0, 1, 15, 0, 0, 0, 5, 0, 0, 0, 2, 0, 0, 4],\n",
       " [0, 14, 7, 0, 0, 0, 8, 0, 0, 0, 1, 0, 0, 0, 0, 0, 0, 6],\n",
       " [0, 8, 2, 0, 1, 0, 6, 0, 0, 0, 0, 0, 0, 0, 1, 0, 0, 3],\n",
       " [0, 3, 3, 0, 1, 0, 2, 0, 0, 0, 1, 0, 0, 0, 0, 0, 0, 0],\n",
       " [0, 7, 7, 0, 0, 0, 8, 0, 0, 0, 4, 0, 0, 0, 1, 0, 1, 7],\n",
       " [0, 11, 6, 0, 0, 0, 12, 0, 0, 0, 4, 0, 0, 0, 1, 0, 0, 6],\n",
       " [0, 4, 2, 1, 0, 0, 5, 0, 0, 0, 2, 0, 0, 0, 0, 0, 0, 1],\n",
       " [0, 8, 5, 0, 0, 2, 7, 0, 0, 0, 1, 0, 0, 0, 0, 0, 1, 4],\n",
       " [0, 63, 34, 2, 2, 0, 65, 0, 0, 0, 17, 0, 0, 0, 8, 0, 0, 29],\n",
       " [0, 11, 4, 0, 0, 1, 9, 0, 0, 0, 3, 0, 0, 0, 1, 0, 0, 3],\n",
       " [0, 4, 2, 0, 1, 1, 7, 0, 0, 0, 1, 0, 0, 0, 0, 0, 0, 3],\n",
       " [0, 3, 3, 0, 0, 0, 6, 0, 0, 0, 1, 0, 0, 0, 0, 0, 1, 2],\n",
       " [0, 50, 12, 2, 2, 1, 36, 0, 0, 0, 9, 0, 0, 0, 2, 0, 1, 19],\n",
       " [0, 10, 9, 0, 1, 0, 4, 1, 0, 0, 2, 0, 0, 0, 0, 0, 0, 2],\n",
       " [0, 27, 25, 0, 3, 1, 36, 0, 0, 1, 14, 0, 0, 0, 0, 0, 0, 20],\n",
       " [0, 3, 5, 0, 0, 0, 2, 0, 0, 0, 1, 0, 0, 0, 0, 0, 0, 0],\n",
       " [0, 186, 81, 0, 15, 17, 178, 0, 0, 0, 59, 0, 0, 0, 10, 0, 3, 76],\n",
       " [0, 8, 3, 0, 1, 0, 1, 0, 0, 0, 1, 0, 0, 0, 0, 0, 0, 0],\n",
       " [0, 5, 6, 0, 0, 1, 5, 0, 0, 0, 1, 0, 0, 0, 0, 0, 0, 4],\n",
       " [0, 6, 5, 0, 0, 0, 8, 0, 0, 0, 0, 0, 0, 0, 0, 0, 1, 2],\n",
       " [0, 20, 11, 0, 2, 2, 19, 0, 0, 0, 8, 0, 0, 0, 0, 0, 0, 9]]"
      ]
     },
     "execution_count": 91,
     "metadata": {},
     "output_type": "execute_result"
    }
   ],
   "source": [
    "municipios_frequency"
   ]
  },
  {
   "cell_type": "code",
   "execution_count": 92,
   "metadata": {},
   "outputs": [
    {
     "name": "stdout",
     "output_type": "stream",
     "text": [
      "Statistics=18.81, p=0.59731203519323572415\n",
      "Do not Reject Null Hypothesis (No significant difference between samples)\n"
     ]
    }
   ],
   "source": [
    "from scipy import stats\n",
    "\n",
    "stat, p_value = stats.kruskal(*municipios_frequency)\n",
    "print('Statistics=%.2f, p=%.20f' % (stat, p_value))\n",
    "\n",
    "alpha = 0.05\n",
    "\n",
    "if p_value < alpha:\n",
    "    print('Reject Null Hypothesis (Significant difference between samples)')\n",
    "else:\n",
    "    print('Do not Reject Null Hypothesis (No significant difference between samples)')"
   ]
  },
  {
   "cell_type": "markdown",
   "metadata": {},
   "source": [
    "Como não podemos rejeitar a hipótese nula, podemos afirmar que aprovamos nossa hipótese:\n",
    "\n",
    "Dentre os municípios com maiores frequências de ocorrências, as que resultam em óbitos possuem frequência por tipo de ocorrência similar independente do município."
   ]
  },
  {
   "cell_type": "markdown",
   "metadata": {},
   "source": [
    "3. A distribuição de Faixa Etária para os tipos de ocorrência \"CARDIOLOGICA\" e \"RESPIRATORIA\" são semelhantes.\n",
    "\n",
    "Hipotése nula: A distribuição de Faixa Etária para os tipos de ocorrência \"CARDIOLOGICA\" e \"RESPIRATORIA\" são semelhantes."
   ]
  },
  {
   "cell_type": "code",
   "execution_count": 103,
   "metadata": {},
   "outputs": [
    {
     "data": {
      "text/plain": [
       "<AxesSubplot:ylabel='Frequency'>"
      ]
     },
     "execution_count": 103,
     "metadata": {},
     "output_type": "execute_result"
    },
    {
     "data": {
      "image/png": "[encoded data removed]",
      "text/plain": [
       "<Figure size 432x288 with 1 Axes>"
      ]
     },
     "metadata": {
      "needs_background": "light"
     },
     "output_type": "display_data"
    }
   ],
   "source": [
    "faixa_etaria_df = raw_df.groupby([\"faixa_etaria\", \"tipo\"])[\"data\"].agg(\"count\").reset_index()\n",
    "faixa_etaria_df = faixa_etaria_df[faixa_etaria_df[\"tipo\"].isin([\"CARDIOLOGICA\", \"RESPIRATORIA\"])]\n",
    "faixa_etaria_df.plot.hist()"
   ]
  },
  {
   "cell_type": "markdown",
   "metadata": {},
   "source": [
    "Isso aqui talvez pode ser considerado distribuição normal, então vamos usar o teste de shapiro-wilk para testar essa possibilidade."
   ]
  },
  {
   "cell_type": "code",
   "execution_count": 105,
   "metadata": {},
   "outputs": [
    {
     "data": {
      "text/plain": [
       "ShapiroResult(statistic=0.9252513647079468, pvalue=0.33248022198677063)"
      ]
     },
     "execution_count": 105,
     "metadata": {},
     "output_type": "execute_result"
    }
   ],
   "source": [
    "stats.shapiro(faixa_etaria_df[\"data\"])"
   ]
  },
  {
   "cell_type": "markdown",
   "metadata": {},
   "source": [
    "O pvalue deu maior que 0.05, portanto pelo teste de shapiro, isso pode ser considerado uma distribuição normal. Como ela é uma distribuição normal e não pareada, nós utilizaremos o unpaired t-test. "
   ]
  },
  {
   "cell_type": "code",
   "execution_count": 108,
   "metadata": {},
   "outputs": [
    {
     "name": "stdout",
     "output_type": "stream",
     "text": [
      "Do not Reject Null Hypothesis (No significant difference between samples)\n"
     ]
    }
   ],
   "source": [
    "from scipy.stats import ttest_ind\n",
    "\n",
    "stats, pvalue = ttest_ind(faixa_etaria_df[faixa_etaria_df[\"tipo\"] == \"CARDIOLOGICA\"][\"data\"], faixa_etaria_df[faixa_etaria_df[\"tipo\"] == \"RESPIRATORIA\"][\"data\"])\n",
    "\n",
    "\n",
    "alpha = 0.05\n",
    "\n",
    "if p_value < alpha:\n",
    "    print('Reject Null Hypothesis (Significant difference between samples)')\n",
    "else:\n",
    "    print('Do not Reject Null Hypothesis (No significant difference between samples)')\n"
   ]
  },
  {
   "cell_type": "markdown",
   "metadata": {},
   "source": [
    "Como o resultado não conseguiu rejeitar a hipótese nula, a nossa hipótese inicial está correta."
   ]
  },
  {
   "cell_type": "markdown",
   "metadata": {},
   "source": [
    "4. As frequências de tipos de ocorrência são semelhantes para cada um dos 5 Municipios com maior número de ocorrências em Recife.\n",
    "\n",
    "Hipotése nula: As frequências de tipos de ocorrência são semelhantes para cada um dos 5 Municipios com maior número de ocorrências em Recife."
   ]
  },
  {
   "cell_type": "code",
   "execution_count": 122,
   "metadata": {},
   "outputs": [
    {
     "data": {
      "text/plain": [
       "['RECIFE',\n",
       " 'JABOATAO DOS GUARARAPES',\n",
       " 'OLINDA',\n",
       " 'PAULISTA',\n",
       " 'CABO DE SANTO AGOSTINHO']"
      ]
     },
     "execution_count": 122,
     "metadata": {},
     "output_type": "execute_result"
    }
   ],
   "source": [
    "highest_5 = raw_df.groupby(['municipio'])['data'].agg(['count']).reset_index()\n",
    "highest_5 = highest_5.sort_values(by=\"count\", ascending=False)\n",
    "highest_5 = highest_5[0:5]\n",
    "highest_5_names = highest_5[\"municipio\"].values.to_list()\n",
    "highest_5_names"
   ]
  },
  {
   "cell_type": "code",
   "execution_count": 127,
   "metadata": {},
   "outputs": [
    {
     "data": {
      "text/html": [
       "<div>\n",
       "<style scoped>\n",
       "    .dataframe tbody tr th:only-of-type {\n",
       "        vertical-align: middle;\n",
       "    }\n",
       "\n",
       "    .dataframe tbody tr th {\n",
       "        vertical-align: top;\n",
       "    }\n",
       "\n",
       "    .dataframe thead th {\n",
       "        text-align: right;\n",
       "    }\n",
       "</style>\n",
       "<table border=\"1\" class=\"dataframe\">\n",
       "  <thead>\n",
       "    <tr style=\"text-align: right;\">\n",
       "      <th></th>\n",
       "      <th>municipio</th>\n",
       "      <th>tipo</th>\n",
       "      <th>count</th>\n",
       "    </tr>\n",
       "  </thead>\n",
       "  <tbody>\n",
       "    <tr>\n",
       "      <th>162</th>\n",
       "      <td>CABO DE SANTO AGOSTINHO</td>\n",
       "      <td>ASSINTOMATICO</td>\n",
       "      <td>1</td>\n",
       "    </tr>\n",
       "    <tr>\n",
       "      <th>163</th>\n",
       "      <td>CABO DE SANTO AGOSTINHO</td>\n",
       "      <td>CARDIOLOGICA</td>\n",
       "      <td>151</td>\n",
       "    </tr>\n",
       "    <tr>\n",
       "      <th>164</th>\n",
       "      <td>CABO DE SANTO AGOSTINHO</td>\n",
       "      <td>CAUSAS EXTERNAS</td>\n",
       "      <td>763</td>\n",
       "    </tr>\n",
       "    <tr>\n",
       "      <th>165</th>\n",
       "      <td>CABO DE SANTO AGOSTINHO</td>\n",
       "      <td>DROGAS</td>\n",
       "      <td>26</td>\n",
       "    </tr>\n",
       "    <tr>\n",
       "      <th>166</th>\n",
       "      <td>CABO DE SANTO AGOSTINHO</td>\n",
       "      <td>ENDOCRINOLOGICA</td>\n",
       "      <td>35</td>\n",
       "    </tr>\n",
       "    <tr>\n",
       "      <th>...</th>\n",
       "      <td>...</td>\n",
       "      <td>...</td>\n",
       "      <td>...</td>\n",
       "    </tr>\n",
       "    <tr>\n",
       "      <th>1003</th>\n",
       "      <td>RECIFE</td>\n",
       "      <td>OFTALMOLOGICA</td>\n",
       "      <td>9</td>\n",
       "    </tr>\n",
       "    <tr>\n",
       "      <th>1004</th>\n",
       "      <td>RECIFE</td>\n",
       "      <td>ONCOLOGICA</td>\n",
       "      <td>286</td>\n",
       "    </tr>\n",
       "    <tr>\n",
       "      <th>1005</th>\n",
       "      <td>RECIFE</td>\n",
       "      <td>OTORRINOLARINGOLOGICA</td>\n",
       "      <td>45</td>\n",
       "    </tr>\n",
       "    <tr>\n",
       "      <th>1006</th>\n",
       "      <td>RECIFE</td>\n",
       "      <td>PSIQUIATRICA</td>\n",
       "      <td>3009</td>\n",
       "    </tr>\n",
       "    <tr>\n",
       "      <th>1007</th>\n",
       "      <td>RECIFE</td>\n",
       "      <td>RESPIRATORIA</td>\n",
       "      <td>2884</td>\n",
       "    </tr>\n",
       "  </tbody>\n",
       "</table>\n",
       "<p>90 rows × 3 columns</p>\n",
       "</div>"
      ],
      "text/plain": [
       "                    municipio                   tipo  count\n",
       "162   CABO DE SANTO AGOSTINHO          ASSINTOMATICO      1\n",
       "163   CABO DE SANTO AGOSTINHO           CARDIOLOGICA    151\n",
       "164   CABO DE SANTO AGOSTINHO        CAUSAS EXTERNAS    763\n",
       "165   CABO DE SANTO AGOSTINHO                 DROGAS     26\n",
       "166   CABO DE SANTO AGOSTINHO        ENDOCRINOLOGICA     35\n",
       "...                       ...                    ...    ...\n",
       "1003                   RECIFE          OFTALMOLOGICA      9\n",
       "1004                   RECIFE             ONCOLOGICA    286\n",
       "1005                   RECIFE  OTORRINOLARINGOLOGICA     45\n",
       "1006                   RECIFE           PSIQUIATRICA   3009\n",
       "1007                   RECIFE           RESPIRATORIA   2884\n",
       "\n",
       "[90 rows x 3 columns]"
      ]
     },
     "execution_count": 127,
     "metadata": {},
     "output_type": "execute_result"
    }
   ],
   "source": [
    "frequencia_ocorrencia = raw_df.groupby([\"municipio\", \"tipo\"])[\"data\"].agg([\"count\"]).reset_index()\n",
    "frequencia_ocorrencia = frequencia_ocorrencia[frequencia_ocorrencia[\"municipio\"].isin(highest_5_names)]\n",
    "frequencia_ocorrencia"
   ]
  },
  {
   "cell_type": "code",
   "execution_count": 128,
   "metadata": {},
   "outputs": [
    {
     "data": {
      "text/plain": [
       "<AxesSubplot:ylabel='Frequency'>"
      ]
     },
     "execution_count": 128,
     "metadata": {},
     "output_type": "execute_result"
    },
    {
     "data": {
      "image/png": "[encoded data removed]",
      "text/plain": [
       "<Figure size 432x288 with 1 Axes>"
      ]
     },
     "metadata": {
      "needs_background": "light"
     },
     "output_type": "display_data"
    }
   ],
   "source": [
    "frequencia_ocorrencia.plot.hist()\n"
   ]
  },
  {
   "cell_type": "markdown",
   "metadata": {},
   "source": [
    "Não há chance de ser uma distribuição normal. Como estamos testando mais de 2 grupos (municípios), usaremos o teste de kruskal."
   ]
  },
  {
   "cell_type": "code",
   "execution_count": 126,
   "metadata": {},
   "outputs": [],
   "source": [
    "frequencia_ocorrencia_list = []\n",
    "\n",
    "for munic in highest_5_names:\n",
    "    aux = frequencia_ocorrencia[frequencia_ocorrencia[\"municipio\"] == munic]\n",
    "    frequencia_ocorrencia.append(aux)"
   ]
  },
  {
   "cell_type": "code",
   "execution_count": 129,
   "metadata": {},
   "outputs": [
    {
     "name": "stdout",
     "output_type": "stream",
     "text": [
      "Statistics=2.00, p=0.36787944117144244505\n",
      "Do not Reject Null Hypothesis (No significant difference between samples)\n"
     ]
    }
   ],
   "source": [
    "from scipy import stats\n",
    "\n",
    "stat, p_value = stats.kruskal(*frequencia_ocorrencia)\n",
    "print('Statistics=%.2f, p=%.20f' % (stat, p_value))\n",
    "\n",
    "alpha = 0.05\n",
    "\n",
    "if p_value < alpha:\n",
    "    print('Reject Null Hypothesis (Significant difference between samples)')\n",
    "else:\n",
    "    print('Do not Reject Null Hypothesis (No significant difference between samples)')\n"
   ]
  },
  {
   "cell_type": "markdown",
   "metadata": {},
   "source": [
    "Como a hipótese nula não é rejeitada, podemos afirmar que a nossa hipótese inicial é verdadeira."
   ]
  }
 ],
 "metadata": {
  "kernelspec": {
   "display_name": "Python 3.9.10 64-bit",
   "language": "python",
   "name": "python3"
  },
  "language_info": {
   "codemirror_mode": {
    "name": "ipython",
    "version": 3
   },
   "file_extension": ".py",
   "mimetype": "text/x-python",
   "name": "python",
   "nbconvert_exporter": "python",
   "pygments_lexer": "ipython3",
   "version": "3.9.10"
  },
  "orig_nbformat": 4,
  "vscode": {
   "interpreter": {
    "hash": "81794d4967e6c3204c66dcd87b604927b115b27c00565d3d43f05ba2f3a2cb0d"
   }
  }
 },
 "nbformat": 4,
 "nbformat_minor": 2
}
